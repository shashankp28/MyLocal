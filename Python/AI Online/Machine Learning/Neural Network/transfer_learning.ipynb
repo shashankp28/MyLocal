{
  "cells": [
    {
      "cell_type": "code",
      "execution_count": 4,
      "metadata": {
        "id": "F08oZZI5uEw0"
      },
      "outputs": [
        {
          "data": {
            "text/plain": [
              "[LogicalDevice(name='/device:CPU:0', device_type='CPU'),\n",
              " LogicalDevice(name='/device:GPU:0', device_type='GPU')]"
            ]
          },
          "execution_count": 4,
          "metadata": {},
          "output_type": "execute_result"
        }
      ],
      "source": [
        "import numpy as np\n",
        "import cv2\n",
        "\n",
        "import PIL.Image as Image\n",
        "import os\n",
        "\n",
        "import matplotlib.pyplot as plt\n",
        "\n",
        "import tensorflow as tf\n",
        "import tensorflow_hub as hub\n",
        "\n",
        "from tensorflow import keras\n",
        "from tensorflow.keras import layers\n",
        "from tensorflow.keras.models import Sequential\n",
        "tf.config.list_logical_devices()"
      ]
    },
    {
      "cell_type": "code",
      "execution_count": 5,
      "metadata": {
        "id": "B6X8gA-huRK1"
      },
      "outputs": [],
      "source": [
        "mobile_net = tf.keras.Sequential([\n",
        "    hub.KerasLayer(\"https://tfhub.dev/google/tf2-preview/mobilenet_v2/classification/4\", input_shape=(224, 224, 3))\n",
        "])"
      ]
    },
    {
      "cell_type": "code",
      "execution_count": 6,
      "metadata": {
        "id": "p11dixxvvyH2"
      },
      "outputs": [],
      "source": [
        "import requests\n",
        "target_url = \"https://storage.googleapis.com/download.tensorflow.org/data/ImageNetLabels.txt\"\n",
        "response = requests.get(target_url)\n",
        "labels = response.text.split(\"\\n\")"
      ]
    },
    {
      "cell_type": "code",
      "execution_count": 7,
      "metadata": {
        "id": "5Z1PY85qxo6x"
      },
      "outputs": [],
      "source": [
        "img = Image.open(\"potpie.jpg\")"
      ]
    },
    {
      "cell_type": "code",
      "execution_count": 8,
      "metadata": {
        "id": "1BioFqkOzgYe"
      },
      "outputs": [],
      "source": [
        "potpie = img.resize((224, 224))\n",
        "potpie = np.array(potpie)/255.0\n",
        "potpie = potpie[np.newaxis, ...]"
      ]
    },
    {
      "cell_type": "code",
      "execution_count": 9,
      "metadata": {
        "colab": {
          "base_uri": "https://localhost:8080/"
        },
        "id": "P_Dp3rNez52l",
        "outputId": "6116d1b6-5627-48c4-e03a-88df44088d49"
      },
      "outputs": [
        {
          "name": "stdout",
          "output_type": "stream",
          "text": [
            "1/1 [==============================] - 79s 79s/step\n"
          ]
        },
        {
          "data": {
            "text/plain": [
              "array([[ 0.37158248,  1.0987326 , -0.62154   , ...,  1.9407569 ,\n",
              "         0.13099512,  1.1240891 ]], dtype=float32)"
            ]
          },
          "execution_count": 9,
          "metadata": {},
          "output_type": "execute_result"
        }
      ],
      "source": [
        "pred = mobile_net.predict(potpie)\n",
        "pred"
      ]
    },
    {
      "cell_type": "code",
      "execution_count": 10,
      "metadata": {
        "colab": {
          "base_uri": "https://localhost:8080/",
          "height": 36
        },
        "id": "SCLQaW9u1N0-",
        "outputId": "58d9326b-a666-44bd-dbe4-52c675154a21"
      },
      "outputs": [
        {
          "data": {
            "text/plain": [
              "'potpie'"
            ]
          },
          "execution_count": 10,
          "metadata": {},
          "output_type": "execute_result"
        }
      ],
      "source": [
        "labels[np.argmax(pred)]"
      ]
    },
    {
      "cell_type": "code",
      "execution_count": 11,
      "metadata": {
        "id": "tz_R-cgY1VSQ"
      },
      "outputs": [
        {
          "name": "stdout",
          "output_type": "stream",
          "text": [
            "Downloading data from https://storage.googleapis.com/download.tensorflow.org/example_images/flower_photos.tgz\n",
            "228813984/228813984 [==============================] - 77s 0us/step\n"
          ]
        }
      ],
      "source": [
        "dataset_url = \"https://storage.googleapis.com/download.tensorflow.org/example_images/flower_photos.tgz\"\n",
        "data_dir = tf.keras.utils.get_file('flower_photos', origin=dataset_url, untar=True)"
      ]
    },
    {
      "cell_type": "code",
      "execution_count": 12,
      "metadata": {
        "colab": {
          "base_uri": "https://localhost:8080/",
          "height": 36
        },
        "id": "jlfplcpP2cBP",
        "outputId": "5eec4366-91c7-4cda-9737-cedb788eb5e3"
      },
      "outputs": [
        {
          "data": {
            "text/plain": [
              "'C:\\\\Users\\\\Shashank\\\\.keras\\\\datasets\\\\flower_photos'"
            ]
          },
          "execution_count": 12,
          "metadata": {},
          "output_type": "execute_result"
        }
      ],
      "source": [
        "data_dir"
      ]
    },
    {
      "cell_type": "code",
      "execution_count": 13,
      "metadata": {
        "colab": {
          "base_uri": "https://localhost:8080/"
        },
        "id": "eaw-r7Dt2fb8",
        "outputId": "be8de231-fa99-4145-ebd7-8c581106a8c6"
      },
      "outputs": [
        {
          "data": {
            "text/plain": [
              "WindowsPath('C:/Users/Shashank/.keras/datasets/flower_photos')"
            ]
          },
          "execution_count": 13,
          "metadata": {},
          "output_type": "execute_result"
        }
      ],
      "source": [
        "import pathlib\n",
        "data_dir = pathlib.Path(data_dir)\n",
        "data_dir"
      ]
    },
    {
      "cell_type": "code",
      "execution_count": 14,
      "metadata": {
        "colab": {
          "base_uri": "https://localhost:8080/"
        },
        "id": "R3VLlmlT224Y",
        "outputId": "08b5e873-e3e2-442c-f204-fcda945f1331"
      },
      "outputs": [
        {
          "data": {
            "text/plain": [
              "3670"
            ]
          },
          "execution_count": 14,
          "metadata": {},
          "output_type": "execute_result"
        }
      ],
      "source": [
        "img_count = len(list(data_dir.glob(\"*/*.jpg\")))\n",
        "img_count"
      ]
    },
    {
      "cell_type": "code",
      "execution_count": 15,
      "metadata": {
        "id": "D8gI5DnB3Th1"
      },
      "outputs": [],
      "source": [
        "flower_img_dict = {}\n",
        "flower_labels = {}\n",
        "b=0\n",
        "for flower in os.listdir(data_dir):\n",
        "    if flower==\"LICENSE.txt\": continue\n",
        "    flower_img_dict[flower] = list(data_dir.glob(flower+\"/*.jpg\"))\n",
        "    flower_labels[flower] = b\n",
        "    b+=1"
      ]
    },
    {
      "cell_type": "code",
      "execution_count": 16,
      "metadata": {
        "colab": {
          "base_uri": "https://localhost:8080/"
        },
        "id": "a8ueMq3y3gGu",
        "outputId": "ceb0600c-b8d2-4f06-d70a-2114e1ae8359"
      },
      "outputs": [
        {
          "data": {
            "text/plain": [
              "(333, 500, 3)"
            ]
          },
          "execution_count": 16,
          "metadata": {},
          "output_type": "execute_result"
        }
      ],
      "source": [
        "img = cv2.imread(str(flower_img_dict[\"roses\"][54]))\n",
        "img.shape"
      ]
    },
    {
      "cell_type": "code",
      "execution_count": 17,
      "metadata": {
        "colab": {
          "base_uri": "https://localhost:8080/",
          "height": 49,
          "referenced_widgets": [
            "faf5755f66bd466a91f306798b0286f6",
            "999a4be232ab46a3a2fb5a39eeccaf1c",
            "c583ee5bbdf34f4ebaffd4493a28cf2a",
            "22ec38db344045ba91c037ca9d0661a3",
            "9892bb61389d4023afdb79c0b9321550",
            "0c6a73073a444af3b3d6a41ce8e4936c",
            "5f60a60f5290422f86b3c34035dbe45d",
            "0653f5978f4d4abd9730b4cb8058bcff",
            "28855eb531714a5a8778071b9b82574a",
            "593653e573784b7384a21f1ba87a22da",
            "8ffd7c21825e436c9c40e444097e2f8f"
          ]
        },
        "id": "213MeJrE4GKc",
        "outputId": "c58a6e15-5621-493a-e13d-d73c16aac6a6"
      },
      "outputs": [
        {
          "data": {
            "application/vnd.jupyter.widget-view+json": {
              "model_id": "148055a3b50d411ea39bad69e8db465a",
              "version_major": 2,
              "version_minor": 0
            },
            "text/plain": [
              "  0%|          | 0/3670 [00:00<?, ?it/s]"
            ]
          },
          "metadata": {},
          "output_type": "display_data"
        }
      ],
      "source": [
        "X, y = [], []\n",
        "import tqdm.notebook as nb\n",
        "pb = nb.tqdm(total = img_count)\n",
        "for flower, images in flower_img_dict.items():\n",
        "    for image in images:\n",
        "        pb.update(n=1)\n",
        "        img = cv2.imread(str(image))\n",
        "        img = cv2.resize(img, (224, 224))\n",
        "        X.append(img)\n",
        "        y.append(flower_labels[flower])"
      ]
    },
    {
      "cell_type": "code",
      "execution_count": 18,
      "metadata": {
        "colab": {
          "base_uri": "https://localhost:8080/"
        },
        "id": "MYTV3IYA4I1O",
        "outputId": "546ed85b-023b-4d8a-b757-90a34cb5c686"
      },
      "outputs": [
        {
          "name": "stdout",
          "output_type": "stream",
          "text": [
            "1/1 [==============================] - 7s 7s/step\n"
          ]
        },
        {
          "data": {
            "text/plain": [
              "[795, 795, 795]"
            ]
          },
          "execution_count": 18,
          "metadata": {},
          "output_type": "execute_result"
        }
      ],
      "source": [
        "predicted = mobile_net.predict(np.array([X[0], X[1], X[2]]))\n",
        "predicted = [np.argmax(i) for i in predicted]\n",
        "predicted"
      ]
    },
    {
      "cell_type": "code",
      "execution_count": 19,
      "metadata": {
        "colab": {
          "base_uri": "https://localhost:8080/",
          "height": 287
        },
        "id": "iGmrnFqtarIT",
        "outputId": "67397ef1-c94c-45b3-f65a-8265a6b333bf"
      },
      "outputs": [
        {
          "data": {
            "text/plain": [
              "(<matplotlib.image.AxesImage at 0x2147932e770>, 'pillow')"
            ]
          },
          "execution_count": 19,
          "metadata": {},
          "output_type": "execute_result"
        },
        {
          "data": {
            "image/png": "[encoded data removed]",
            "text/plain": [
              "<Figure size 432x288 with 1 Axes>"
            ]
          },
          "metadata": {
            "needs_background": "light"
          },
          "output_type": "display_data"
        }
      ],
      "source": [
        "plt.imshow(X[2]), labels[722]"
      ]
    },
    {
      "cell_type": "code",
      "execution_count": 20,
      "metadata": {
        "id": "CflDSA9wdM0K"
      },
      "outputs": [
        {
          "ename": "MemoryError",
          "evalue": "Unable to allocate 4.12 GiB for an array with shape (3670, 224, 224, 3) and data type float64",
          "output_type": "error",
          "traceback": [
            "\u001b[1;31m---------------------------------------------------------------------------\u001b[0m",
            "\u001b[1;31mMemoryError\u001b[0m                               Traceback (most recent call last)",
            "\u001b[1;32md:\\Programming\\Local\\Python\\AI Online\\Machine Learning\\Neural Network\\transfer_learning.ipynb Cell 17\u001b[0m in \u001b[0;36m<cell line: 2>\u001b[1;34m()\u001b[0m\n\u001b[0;32m      <a href='vscode-notebook-cell:/d%3A/Programming/Local/Python/AI%20Online/Machine%20Learning/Neural%20Network/transfer_learning.ipynb#ch0000016?line=0'>1</a>\u001b[0m \u001b[39mfrom\u001b[39;00m \u001b[39msklearn\u001b[39;00m\u001b[39m.\u001b[39;00m\u001b[39mmodel_selection\u001b[39;00m \u001b[39mimport\u001b[39;00m train_test_split \u001b[39mas\u001b[39;00m tts\n\u001b[1;32m----> <a href='vscode-notebook-cell:/d%3A/Programming/Local/Python/AI%20Online/Machine%20Learning/Neural%20Network/transfer_learning.ipynb#ch0000016?line=1'>2</a>\u001b[0m X \u001b[39m=\u001b[39m np\u001b[39m.\u001b[39;49marray(X)\u001b[39m/\u001b[39;49m\u001b[39m255.0\u001b[39;49m\n\u001b[0;32m      <a href='vscode-notebook-cell:/d%3A/Programming/Local/Python/AI%20Online/Machine%20Learning/Neural%20Network/transfer_learning.ipynb#ch0000016?line=2'>3</a>\u001b[0m y \u001b[39m=\u001b[39m np\u001b[39m.\u001b[39marray(y)\n\u001b[0;32m      <a href='vscode-notebook-cell:/d%3A/Programming/Local/Python/AI%20Online/Machine%20Learning/Neural%20Network/transfer_learning.ipynb#ch0000016?line=4'>5</a>\u001b[0m x_train, x_test, y_train, y_test \u001b[39m=\u001b[39m tts(X, y, random_state\u001b[39m=\u001b[39m\u001b[39m42\u001b[39m)\n",
            "\u001b[1;31mMemoryError\u001b[0m: Unable to allocate 4.12 GiB for an array with shape (3670, 224, 224, 3) and data type float64"
          ]
        }
      ],
      "source": [
        "from sklearn.model_selection import train_test_split as tts\n",
        "X = np.array(X)/255.0\n",
        "y = np.array(y)\n",
        "\n",
        "x_train, x_test, y_train, y_test = tts(X, y, random_state=42)"
      ]
    },
    {
      "cell_type": "code",
      "execution_count": null,
      "metadata": {
        "id": "EQOj4eTabIem"
      },
      "outputs": [],
      "source": [
        "feature_ext = \"https://tfhub.dev/google/tf2-preview/mobilenet_v2/feature_vector/4\"\n",
        "\n",
        "features = hub.KerasLayer(feature_ext, input_shape=(224, 224, 3), trainable=False)"
      ]
    },
    {
      "cell_type": "code",
      "execution_count": null,
      "metadata": {
        "colab": {
          "base_uri": "https://localhost:8080/"
        },
        "id": "yEGZBMTqcFS6",
        "outputId": "2449c796-3a0b-44e0-90c7-8b856c6ebba7"
      },
      "outputs": [
        {
          "name": "stdout",
          "output_type": "stream",
          "text": [
            "Model: \"sequential\"\n",
            "_________________________________________________________________\n",
            " Layer (type)                Output Shape              Param #   \n",
            "=================================================================\n",
            " keras_layer (KerasLayer)    (None, 1280)              2257984   \n",
            "                                                                 \n",
            " dense (Dense)               (None, 5)                 6405      \n",
            "                                                                 \n",
            "=================================================================\n",
            "Total params: 2,264,389\n",
            "Trainable params: 6,405\n",
            "Non-trainable params: 2,257,984\n",
            "_________________________________________________________________\n"
          ]
        }
      ],
      "source": [
        "model = keras.Sequential([\n",
        "                          features,\n",
        "                          tf.keras.layers.Dense(5, activation='softmax')\n",
        "])\n",
        "\n",
        "model.summary()"
      ]
    },
    {
      "cell_type": "code",
      "execution_count": null,
      "metadata": {
        "id": "41Behj7Sco5d"
      },
      "outputs": [],
      "source": [
        "model.compile(optimizer='adam', loss='sparse_categorical_crossentropy', metrics=[\"acc\"])\n",
        "model.fit(x_train, y_train, epochs=5)"
      ]
    },
    {
      "cell_type": "code",
      "execution_count": null,
      "metadata": {
        "id": "NBhilo9LdvJF"
      },
      "outputs": [],
      "source": []
    }
  ],
  "metadata": {
    "accelerator": "GPU",
    "colab": {
      "name": "transfer_learning.ipynb",
      "provenance": []
    },
    "gpuClass": "standard",
    "kernelspec": {
      "display_name": ".mldev",
      "language": "python",
      "name": ".mldev"
    },
    "language_info": {
      "codemirror_mode": {
        "name": "ipython",
        "version": 3
      },
      "file_extension": ".py",
      "mimetype": "text/x-python",
      "name": "python",
      "nbconvert_exporter": "python",
      "pygments_lexer": "ipython3",
      "version": "3.10.5"
    },
    "widgets": {
      "application/vnd.jupyter.widget-state+json": {
        "0653f5978f4d4abd9730b4cb8058bcff": {
          "model_module": "@jupyter-widgets/base",
          "model_module_version": "1.2.0",
          "model_name": "LayoutModel",
          "state": {
            "_model_module": "@jupyter-widgets/base",
            "_model_module_version": "1.2.0",
            "_model_name": "LayoutModel",
            "_view_count": null,
            "_view_module": "@jupyter-widgets/base",
            "_view_module_version": "1.2.0",
            "_view_name": "LayoutView",
            "align_content": null,
            "align_items": null,
            "align_self": null,
            "border": null,
            "bottom": null,
            "display": null,
            "flex": null,
            "flex_flow": null,
            "grid_area": null,
            "grid_auto_columns": null,
            "grid_auto_flow": null,
            "grid_auto_rows": null,
            "grid_column": null,
            "grid_gap": null,
            "grid_row": null,
            "grid_template_areas": null,
            "grid_template_columns": null,
            "grid_template_rows": null,
            "height": null,
            "justify_content": null,
            "justify_items": null,
            "left": null,
            "margin": null,
            "max_height": null,
            "max_width": null,
            "min_height": null,
            "min_width": null,
            "object_fit": null,
            "object_position": null,
            "order": null,
            "overflow": null,
            "overflow_x": null,
            "overflow_y": null,
            "padding": null,
            "right": null,
            "top": null,
            "visibility": null,
            "width": null
          }
        },
        "0c6a73073a444af3b3d6a41ce8e4936c": {
          "model_module": "@jupyter-widgets/base",
          "model_module_version": "1.2.0",
          "model_name": "LayoutModel",
          "state": {
            "_model_module": "@jupyter-widgets/base",
            "_model_module_version": "1.2.0",
            "_model_name": "LayoutModel",
            "_view_count": null,
            "_view_module": "@jupyter-widgets/base",
            "_view_module_version": "1.2.0",
            "_view_name": "LayoutView",
            "align_content": null,
            "align_items": null,
            "align_self": null,
            "border": null,
            "bottom": null,
            "display": null,
            "flex": null,
            "flex_flow": null,
            "grid_area": null,
            "grid_auto_columns": null,
            "grid_auto_flow": null,
            "grid_auto_rows": null,
            "grid_column": null,
            "grid_gap": null,
            "grid_row": null,
            "grid_template_areas": null,
            "grid_template_columns": null,
            "grid_template_rows": null,
            "height": null,
            "justify_content": null,
            "justify_items": null,
            "left": null,
            "margin": null,
            "max_height": null,
            "max_width": null,
            "min_height": null,
            "min_width": null,
            "object_fit": null,
            "object_position": null,
            "order": null,
            "overflow": null,
            "overflow_x": null,
            "overflow_y": null,
            "padding": null,
            "right": null,
            "top": null,
            "visibility": null,
            "width": null
          }
        },
        "22ec38db344045ba91c037ca9d0661a3": {
          "model_module": "@jupyter-widgets/controls",
          "model_module_version": "1.5.0",
          "model_name": "HTMLModel",
          "state": {
            "_dom_classes": [],
            "_model_module": "@jupyter-widgets/controls",
            "_model_module_version": "1.5.0",
            "_model_name": "HTMLModel",
            "_view_count": null,
            "_view_module": "@jupyter-widgets/controls",
            "_view_module_version": "1.5.0",
            "_view_name": "HTMLView",
            "description": "",
            "description_tooltip": null,
            "layout": "IPY_MODEL_593653e573784b7384a21f1ba87a22da",
            "placeholder": "​",
            "style": "IPY_MODEL_8ffd7c21825e436c9c40e444097e2f8f",
            "value": " 3670/3670 [00:30&lt;00:00, 311.16it/s]"
          }
        },
        "28855eb531714a5a8778071b9b82574a": {
          "model_module": "@jupyter-widgets/controls",
          "model_module_version": "1.5.0",
          "model_name": "ProgressStyleModel",
          "state": {
            "_model_module": "@jupyter-widgets/controls",
            "_model_module_version": "1.5.0",
            "_model_name": "ProgressStyleModel",
            "_view_count": null,
            "_view_module": "@jupyter-widgets/base",
            "_view_module_version": "1.2.0",
            "_view_name": "StyleView",
            "bar_color": null,
            "description_width": ""
          }
        },
        "593653e573784b7384a21f1ba87a22da": {
          "model_module": "@jupyter-widgets/base",
          "model_module_version": "1.2.0",
          "model_name": "LayoutModel",
          "state": {
            "_model_module": "@jupyter-widgets/base",
            "_model_module_version": "1.2.0",
            "_model_name": "LayoutModel",
            "_view_count": null,
            "_view_module": "@jupyter-widgets/base",
            "_view_module_version": "1.2.0",
            "_view_name": "LayoutView",
            "align_content": null,
            "align_items": null,
            "align_self": null,
            "border": null,
            "bottom": null,
            "display": null,
            "flex": null,
            "flex_flow": null,
            "grid_area": null,
            "grid_auto_columns": null,
            "grid_auto_flow": null,
            "grid_auto_rows": null,
            "grid_column": null,
            "grid_gap": null,
            "grid_row": null,
            "grid_template_areas": null,
            "grid_template_columns": null,
            "grid_template_rows": null,
            "height": null,
            "justify_content": null,
            "justify_items": null,
            "left": null,
            "margin": null,
            "max_height": null,
            "max_width": null,
            "min_height": null,
            "min_width": null,
            "object_fit": null,
            "object_position": null,
            "order": null,
            "overflow": null,
            "overflow_x": null,
            "overflow_y": null,
            "padding": null,
            "right": null,
            "top": null,
            "visibility": null,
            "width": null
          }
        },
        "5f60a60f5290422f86b3c34035dbe45d": {
          "model_module": "@jupyter-widgets/controls",
          "model_module_version": "1.5.0",
          "model_name": "DescriptionStyleModel",
          "state": {
            "_model_module": "@jupyter-widgets/controls",
            "_model_module_version": "1.5.0",
            "_model_name": "DescriptionStyleModel",
            "_view_count": null,
            "_view_module": "@jupyter-widgets/base",
            "_view_module_version": "1.2.0",
            "_view_name": "StyleView",
            "description_width": ""
          }
        },
        "8ffd7c21825e436c9c40e444097e2f8f": {
          "model_module": "@jupyter-widgets/controls",
          "model_module_version": "1.5.0",
          "model_name": "DescriptionStyleModel",
          "state": {
            "_model_module": "@jupyter-widgets/controls",
            "_model_module_version": "1.5.0",
            "_model_name": "DescriptionStyleModel",
            "_view_count": null,
            "_view_module": "@jupyter-widgets/base",
            "_view_module_version": "1.2.0",
            "_view_name": "StyleView",
            "description_width": ""
          }
        },
        "9892bb61389d4023afdb79c0b9321550": {
          "model_module": "@jupyter-widgets/base",
          "model_module_version": "1.2.0",
          "model_name": "LayoutModel",
          "state": {
            "_model_module": "@jupyter-widgets/base",
            "_model_module_version": "1.2.0",
            "_model_name": "LayoutModel",
            "_view_count": null,
            "_view_module": "@jupyter-widgets/base",
            "_view_module_version": "1.2.0",
            "_view_name": "LayoutView",
            "align_content": null,
            "align_items": null,
            "align_self": null,
            "border": null,
            "bottom": null,
            "display": null,
            "flex": null,
            "flex_flow": null,
            "grid_area": null,
            "grid_auto_columns": null,
            "grid_auto_flow": null,
            "grid_auto_rows": null,
            "grid_column": null,
            "grid_gap": null,
            "grid_row": null,
            "grid_template_areas": null,
            "grid_template_columns": null,
            "grid_template_rows": null,
            "height": null,
            "justify_content": null,
            "justify_items": null,
            "left": null,
            "margin": null,
            "max_height": null,
            "max_width": null,
            "min_height": null,
            "min_width": null,
            "object_fit": null,
            "object_position": null,
            "order": null,
            "overflow": null,
            "overflow_x": null,
            "overflow_y": null,
            "padding": null,
            "right": null,
            "top": null,
            "visibility": null,
            "width": null
          }
        },
        "999a4be232ab46a3a2fb5a39eeccaf1c": {
          "model_module": "@jupyter-widgets/controls",
          "model_module_version": "1.5.0",
          "model_name": "HTMLModel",
          "state": {
            "_dom_classes": [],
            "_model_module": "@jupyter-widgets/controls",
            "_model_module_version": "1.5.0",
            "_model_name": "HTMLModel",
            "_view_count": null,
            "_view_module": "@jupyter-widgets/controls",
            "_view_module_version": "1.5.0",
            "_view_name": "HTMLView",
            "description": "",
            "description_tooltip": null,
            "layout": "IPY_MODEL_0c6a73073a444af3b3d6a41ce8e4936c",
            "placeholder": "​",
            "style": "IPY_MODEL_5f60a60f5290422f86b3c34035dbe45d",
            "value": "100%"
          }
        },
        "c583ee5bbdf34f4ebaffd4493a28cf2a": {
          "model_module": "@jupyter-widgets/controls",
          "model_module_version": "1.5.0",
          "model_name": "FloatProgressModel",
          "state": {
            "_dom_classes": [],
            "_model_module": "@jupyter-widgets/controls",
            "_model_module_version": "1.5.0",
            "_model_name": "FloatProgressModel",
            "_view_count": null,
            "_view_module": "@jupyter-widgets/controls",
            "_view_module_version": "1.5.0",
            "_view_name": "ProgressView",
            "bar_style": "",
            "description": "",
            "description_tooltip": null,
            "layout": "IPY_MODEL_0653f5978f4d4abd9730b4cb8058bcff",
            "max": 3670,
            "min": 0,
            "orientation": "horizontal",
            "style": "IPY_MODEL_28855eb531714a5a8778071b9b82574a",
            "value": 3670
          }
        },
        "faf5755f66bd466a91f306798b0286f6": {
          "model_module": "@jupyter-widgets/controls",
          "model_module_version": "1.5.0",
          "model_name": "HBoxModel",
          "state": {
            "_dom_classes": [],
            "_model_module": "@jupyter-widgets/controls",
            "_model_module_version": "1.5.0",
            "_model_name": "HBoxModel",
            "_view_count": null,
            "_view_module": "@jupyter-widgets/controls",
            "_view_module_version": "1.5.0",
            "_view_name": "HBoxView",
            "box_style": "",
            "children": [
              "IPY_MODEL_999a4be232ab46a3a2fb5a39eeccaf1c",
              "IPY_MODEL_c583ee5bbdf34f4ebaffd4493a28cf2a",
              "IPY_MODEL_22ec38db344045ba91c037ca9d0661a3"
            ],
            "layout": "IPY_MODEL_9892bb61389d4023afdb79c0b9321550"
          }
        }
      }
    }
  },
  "nbformat": 4,
  "nbformat_minor": 0
}
