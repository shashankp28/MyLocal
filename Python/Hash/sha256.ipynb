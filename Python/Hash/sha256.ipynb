{
 "cells": [
  {
   "cell_type": "code",
   "execution_count": 3,
   "metadata": {},
   "outputs": [],
   "source": [
    "import hashlib"
   ]
  },
  {
   "cell_type": "code",
   "execution_count": 27,
   "metadata": {},
   "outputs": [],
   "source": [
    "def append_and_hash(string, num):    \n",
    "    b_num = num.to_bytes(4, byteorder='big')\n",
    "    b_string  = string.encode('utf-8')\n",
    "    new_b_string = b_string + b_num\n",
    "    secret_thing = hashlib.sha256(new_b_string)\n",
    "    return secret_thing.hexdigest()\n",
    "\n",
    "def verify_zeros(hash, nums):\n",
    "    for i in range(nums):\n",
    "        if hash[i] != '0':\n",
    "            return False\n",
    "    return True\n",
    "\n",
    "def find_num(string, nums):\n",
    "    num = 0\n",
    "    while True:\n",
    "        hash = append_and_hash(string, num)\n",
    "        if verify_zeros(hash, nums):\n",
    "            return num, hash\n",
    "        num += 1"
   ]
  },
  {
   "cell_type": "code",
   "execution_count": 28,
   "metadata": {},
   "outputs": [
    {
     "name": "stdout",
     "output_type": "stream",
     "text": [
      "0: 0 da75447e22f9f99e1be09a00cf1a07036e39575746ba2e2acb265c2bde84c372\n",
      "1: 7 05227c4f59d8502e9c0f98610d45e0c1c8273a842dcd4b73afa48eabe0793a0e\n",
      "2: 42 008aa2f2a4e02fef44fdbac1399456d509724a16f4ba9c3bead98f173c40773a\n",
      "3: 2259 0001d02ee31db1c0bf9498c3d9eb1340e774769be191a3185501ec82f3210f24\n",
      "4: 10286 000044132d2644adbf571cf1f5875c8a80a6f3953f60263d5d0d3c3cde228ae1\n",
      "5: 6784863 00000f884eeb07d62219d441dd444bd51114cd02ffc3e0d8099b74929c40b69e\n",
      "6: 8257737 000000485390bf2552949e32837f61d61c03f5571059d3a5106b8c2a3bc3e1f6\n",
      "7: 40425482 00000001d9ce4652d41944f8bd5b36fb5285c38231760a9632a0b51722923a00\n"
     ]
    }
   ],
   "source": [
    "for i in range(8):\n",
    "    string = \"hello\"\n",
    "    magic_num, magic_hash = find_num(string, i)\n",
    "    print(f'{i}: {magic_num} {magic_hash}')"
   ]
  },
  {
   "cell_type": "code",
   "execution_count": 33,
   "metadata": {},
   "outputs": [
    {
     "data": {
      "text/plain": [
       "'e3b0c44298fc1c149afbf4c8996fb92427ae41e4649b934ca495991b7852b855'"
      ]
     },
     "execution_count": 33,
     "metadata": {},
     "output_type": "execute_result"
    }
   ],
   "source": [
    "hashlib.sha256(''.encode('ascii')).hexdigest()"
   ]
  }
 ],
 "metadata": {
  "kernelspec": {
   "display_name": "Python 3",
   "language": "python",
   "name": "python3"
  },
  "language_info": {
   "codemirror_mode": {
    "name": "ipython",
    "version": 3
   },
   "file_extension": ".py",
   "mimetype": "text/x-python",
   "name": "python",
   "nbconvert_exporter": "python",
   "pygments_lexer": "ipython3",
   "version": "3.11.3"
  },
  "orig_nbformat": 4
 },
 "nbformat": 4,
 "nbformat_minor": 2
}
