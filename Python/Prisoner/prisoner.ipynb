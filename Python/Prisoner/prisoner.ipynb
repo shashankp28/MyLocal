{
 "cells": [
  {
   "cell_type": "code",
   "execution_count": 1,
   "metadata": {},
   "outputs": [],
   "source": [
    "import random"
   ]
  },
  {
   "cell_type": "code",
   "execution_count": 2,
   "metadata": {},
   "outputs": [],
   "source": [
    "class Box:\n",
    "    def __init__(self, bn, sn):\n",
    "        self.box_no = bn\n",
    "        self.slip_no = sn"
   ]
  },
  {
   "cell_type": "code",
   "execution_count": 3,
   "metadata": {},
   "outputs": [],
   "source": [
    "class Environment:\n",
    "    def __init__(self, N):\n",
    "        boxes = list(range(N))\n",
    "        slips = boxes[:]\n",
    "        random.shuffle(slips)\n",
    "\n",
    "        self.playground = []\n",
    "        for bn, sn in zip(boxes, slips):\n",
    "            box = Box(bn, sn)\n",
    "            self.playground.append(box)\n",
    "    \n",
    "    def open(self, n):\n",
    "        return self.playground[n].slip_no"
   ]
  },
  {
   "cell_type": "code",
   "execution_count": 4,
   "metadata": {},
   "outputs": [],
   "source": [
    "N = 100"
   ]
  },
  {
   "cell_type": "markdown",
   "metadata": {},
   "source": [
    "#### Strategy Random"
   ]
  },
  {
   "cell_type": "code",
   "execution_count": 5,
   "metadata": {},
   "outputs": [],
   "source": [
    "def generate_picks(n):\n",
    "    picks = list(range(N))\n",
    "    random.shuffle(picks)\n",
    "    picks = picks[:n]\n",
    "    return picks"
   ]
  },
  {
   "cell_type": "code",
   "execution_count": 21,
   "metadata": {},
   "outputs": [
    {
     "data": {
      "application/vnd.jupyter.widget-view+json": {
       "model_id": "500d9085bcbd4491bbdc400ee666274a",
       "version_major": 2,
       "version_minor": 0
      },
      "text/plain": [
       "  0%|          | 0/100000 [00:00<?, ?it/s]"
      ]
     },
     "metadata": {},
     "output_type": "display_data"
    }
   ],
   "source": [
    "import tqdm.notebook as nb\n",
    "epochs = 100000\n",
    "final_result = []\n",
    "\n",
    "for i in nb.tqdm(range(epochs)):\n",
    "    result = {}\n",
    "    outcomes = [0 for j in range(N)]\n",
    "    env = Environment(100)\n",
    "    for prisoner_no in range(N):\n",
    "        picks = generate_picks(N//2)\n",
    "        for b, pick in enumerate(picks):\n",
    "            if env.playground[pick].slip_no==prisoner_no:\n",
    "                outcomes[prisoner_no]=b+1\n",
    "                break\n",
    "    for b, no_of_tries in enumerate(outcomes):\n",
    "        result[f'prisoner{b}'] = no_of_tries\n",
    "    result[\"outcome\"] = 1 if outcomes.count(0)==0 else 0\n",
    "    final_result.append(result)\n"
   ]
  },
  {
   "cell_type": "code",
   "execution_count": 22,
   "metadata": {},
   "outputs": [],
   "source": [
    "import json\n",
    "def save(name, data):\n",
    "    with open(f'{name}.json', 'w+') as fp:\n",
    "        json.dump(data, fp, indent=4)"
   ]
  },
  {
   "cell_type": "code",
   "execution_count": 23,
   "metadata": {},
   "outputs": [],
   "source": [
    "save(\"approach1\", final_result)"
   ]
  },
  {
   "cell_type": "markdown",
   "metadata": {},
   "source": [
    "#### Strategy Loop"
   ]
  },
  {
   "cell_type": "code",
   "execution_count": 24,
   "metadata": {},
   "outputs": [
    {
     "data": {
      "application/vnd.jupyter.widget-view+json": {
       "model_id": "84c438582ea64adeb92e8ada30d66eb3",
       "version_major": 2,
       "version_minor": 0
      },
      "text/plain": [
       "  0%|          | 0/100000 [00:00<?, ?it/s]"
      ]
     },
     "metadata": {},
     "output_type": "display_data"
    }
   ],
   "source": [
    "import tqdm.notebook as nb\n",
    "epochs = 100000\n",
    "final_result = []\n",
    "\n",
    "for i in nb.tqdm(range(epochs)):\n",
    "    result = {}\n",
    "    outcomes = [0 for j in range(N)]\n",
    "    env = Environment(100)\n",
    "    for prisoner_no in range(N):\n",
    "        pick = prisoner_no\n",
    "        for b in range(N//2):\n",
    "            if env.playground[pick].slip_no==prisoner_no:\n",
    "                outcomes[prisoner_no]=b+1\n",
    "                break\n",
    "            pick = env.playground[pick].slip_no\n",
    "    for b, no_of_tries in enumerate(outcomes):\n",
    "        result[f'prisoner{b}'] = no_of_tries\n",
    "    result[\"outcome\"] = 1 if outcomes.count(0)==0 else 0\n",
    "    final_result.append(result)\n"
   ]
  },
  {
   "cell_type": "code",
   "execution_count": null,
   "metadata": {},
   "outputs": [],
   "source": [
    "save(\"approach2\", final_result)"
   ]
  },
  {
   "cell_type": "code",
   "execution_count": null,
   "metadata": {},
   "outputs": [],
   "source": []
  }
 ],
 "metadata": {
  "kernelspec": {
   "display_name": ".mldev",
   "language": "python",
   "name": ".mldev"
  },
  "language_info": {
   "codemirror_mode": {
    "name": "ipython",
    "version": 3
   },
   "file_extension": ".py",
   "mimetype": "text/x-python",
   "name": "python",
   "nbconvert_exporter": "python",
   "pygments_lexer": "ipython3",
   "version": "3.10.5"
  },
  "orig_nbformat": 4,
  "vscode": {
   "interpreter": {
    "hash": "6148741ca5d6c6aa6ad5cb1b93da70a3f9d20217ff1b41201f1e885650f86036"
   }
  }
 },
 "nbformat": 4,
 "nbformat_minor": 2
}
