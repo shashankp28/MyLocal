{
 "cells": [
  {
   "cell_type": "code",
   "execution_count": 1,
   "metadata": {},
   "outputs": [],
   "source": [
    "import os\n",
    "import base64\n",
    "import requests\n",
    "from tqdm.notebook import tqdm\n",
    "from bs4 import BeautifulSoup\n",
    "from selenium import webdriver\n",
    "from selenium.webdriver.chrome.options import Options\n",
    "from selenium.webdriver.chrome.service import Service\n",
    "from io import BytesIO\n",
    "from PIL import Image\n",
    "import imageio\n",
    "import numpy as np\n",
    "import matplotlib.pyplot as plt"
   ]
  },
  {
   "cell_type": "code",
   "execution_count": 2,
   "metadata": {},
   "outputs": [],
   "source": [
    "puzzle_url = 'https://www.jigsawplanet.com/?rc=play&pid=33ccf23c674b'\n",
    "puzzle_id = puzzle_url.split('=')[-1]\n",
    "\n",
    "if not os.path.exists(f'{puzzle_id}'):\n",
    "    os.mkdir(f'{puzzle_id}')\n",
    "    chrome_options = Options()\n",
    "    chrome_options.add_argument(\"--headless\")\n",
    "    chrome_driver_path = './chromedriver.exe'\n",
    "    chrome_driver_service = Service(executable_path=chrome_driver_path)\n",
    "    driver = webdriver.Chrome(\n",
    "        service=chrome_driver_service, options=chrome_options)\n",
    "    driver.get(puzzle_url)\n",
    "    driver.implicitly_wait(10)\n",
    "    page_source = driver.page_source\n",
    "    driver.quit()\n",
    "    all_data = BeautifulSoup(page_source, 'html.parser')\n",
    "    all_pieces = all_data.find(\n",
    "        'div', {'class': 'unselectable game'}).find_all('img')\n",
    "    all_pieces = [piece['src'] for piece in all_pieces]\n",
    "    for i, base64_string in tqdm(enumerate(all_pieces), total=len(all_pieces)):\n",
    "        base64_string = base64_string.split(',')[1]\n",
    "        image_data = base64.b64decode(base64_string)\n",
    "        image_stream = BytesIO(image_data)\n",
    "        image = Image.open(image_stream)\n",
    "        with open(f'./{puzzle_id}/{i}.png', 'wb') as f:\n",
    "            image.save(f, \"PNG\")"
   ]
  },
  {
   "cell_type": "code",
   "execution_count": 3,
   "metadata": {},
   "outputs": [
    {
     "name": "stderr",
     "output_type": "stream",
     "text": [
      "C:\\Users\\Shashank\\AppData\\Local\\Temp\\ipykernel_3656\\102179673.py:3: DeprecationWarning: Starting with ImageIO v3 the behavior of this function will switch to that of iio.v3.imread. To keep the current behavior (and make this warning disappear) use `import imageio.v2 as imageio` or call `imageio.v2.imread` directly.\n",
      "  images.append(imageio.imread(f'./{puzzle_id}/{image_path}'))\n"
     ]
    }
   ],
   "source": [
    "images = []\n",
    "for image_path in os.listdir(f'./{puzzle_id}'):\n",
    "    images.append(imageio.imread(f'./{puzzle_id}/{image_path}'))"
   ]
  }
 ],
 "metadata": {
  "kernelspec": {
   "display_name": "env",
   "language": "python",
   "name": "python3"
  },
  "language_info": {
   "codemirror_mode": {
    "name": "ipython",
    "version": 3
   },
   "file_extension": ".py",
   "mimetype": "text/x-python",
   "name": "python",
   "nbconvert_exporter": "python",
   "pygments_lexer": "ipython3",
   "version": "3.11.3"
  }
 },
 "nbformat": 4,
 "nbformat_minor": 2
}
