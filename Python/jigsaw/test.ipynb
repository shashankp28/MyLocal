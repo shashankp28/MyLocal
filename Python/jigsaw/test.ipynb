{
 "cells": [
  {
   "cell_type": "code",
   "execution_count": 16,
   "metadata": {},
   "outputs": [],
   "source": [
    "import os\n",
    "import base64\n",
    "import requests\n",
    "from tqdm.notebook import tqdm\n",
    "from bs4 import BeautifulSoup\n",
    "from selenium import webdriver\n",
    "from selenium.webdriver.chrome.options import Options\n",
    "from selenium.webdriver.chrome.service import Service\n",
    "from io import BytesIO\n",
    "from PIL import Image"
   ]
  },
  {
   "cell_type": "code",
   "execution_count": 17,
   "metadata": {},
   "outputs": [
    {
     "data": {
      "application/vnd.jupyter.widget-view+json": {
       "model_id": "cb11191d850247a6938a3b21f9373816",
       "version_major": 2,
       "version_minor": 0
      },
      "text/plain": [
       "  0%|          | 0/88 [00:00<?, ?it/s]"
      ]
     },
     "metadata": {},
     "output_type": "display_data"
    }
   ],
   "source": [
    "puzzle_url = 'https://www.jigsawplanet.com/?rc=play&pid=33ccf23c674b'\n",
    "puzzle_id = puzzle_url.split('=')[-1]\n",
    "\n",
    "if not os.path.exists(f'{puzzle_id}'):\n",
    "    os.mkdir(f'{puzzle_id}')\n",
    "    chrome_options = Options()\n",
    "    chrome_options.add_argument(\"--headless\")\n",
    "    chrome_driver_path = './chromedriver.exe'\n",
    "    chrome_driver_service = Service(executable_path=chrome_driver_path)\n",
    "    driver = webdriver.Chrome(\n",
    "        service=chrome_driver_service, options=chrome_options)\n",
    "    driver.get(puzzle_url)\n",
    "    driver.implicitly_wait(10)\n",
    "    page_source = driver.page_source\n",
    "    driver.quit()\n",
    "    all_data = BeautifulSoup(page_source, 'html.parser')\n",
    "    all_pieces = all_data.find(\n",
    "        'div', {'class': 'unselectable game'}).find_all('img')\n",
    "    all_pieces = [piece['src'] for piece in all_pieces]\n",
    "    for i, base64_string in tqdm(enumerate(all_pieces), total=len(all_pieces)):\n",
    "        base64_string = base64_string.split(',')[1]\n",
    "        image_data = base64.b64decode(base64_string)\n",
    "        image_stream = BytesIO(image_data)\n",
    "        image = Image.open(image_stream)\n",
    "        with open(f'./{puzzle_id}/{i}.png', 'wb') as f:\n",
    "            image.save(f, \"PNG\")"
   ]
  },
  {
   "cell_type": "code",
   "execution_count": 18,
   "metadata": {},
   "outputs": [],
   "source": [
    "images = os.listdir(f'./{puzzle_id}')\n"
   ]
  },
  {
   "cell_type": "code",
   "execution_count": null,
   "metadata": {},
   "outputs": [],
   "source": []
  }
 ],
 "metadata": {
  "kernelspec": {
   "display_name": "env",
   "language": "python",
   "name": "python3"
  },
  "language_info": {
   "codemirror_mode": {
    "name": "ipython",
    "version": 3
   },
   "file_extension": ".py",
   "mimetype": "text/x-python",
   "name": "python",
   "nbconvert_exporter": "python",
   "pygments_lexer": "ipython3",
   "version": "3.11.3"
  }
 },
 "nbformat": 4,
 "nbformat_minor": 2
}
