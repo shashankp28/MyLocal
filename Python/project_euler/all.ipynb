{
 "cells": [
  {
   "cell_type": "markdown",
   "metadata": {},
   "source": [
    "# Problem 1"
   ]
  },
  {
   "cell_type": "code",
   "execution_count": 1,
   "metadata": {},
   "outputs": [
    {
     "name": "stdout",
     "output_type": "stream",
     "text": [
      "233168\n"
     ]
    }
   ],
   "source": [
    "N = 1000\n",
    "\n",
    "sum = 0\n",
    "for i in range(1, N):\n",
    "    if i % 3 == 0 or i % 5 == 0:\n",
    "        sum += i\n",
    "\n",
    "print(sum)"
   ]
  },
  {
   "cell_type": "markdown",
   "metadata": {},
   "source": [
    "# Problem 2"
   ]
  },
  {
   "cell_type": "code",
   "execution_count": 2,
   "metadata": {},
   "outputs": [
    {
     "name": "stdout",
     "output_type": "stream",
     "text": [
      "4613732\n"
     ]
    }
   ],
   "source": [
    "import math\n",
    "\n",
    "def fib(n):\n",
    "    phi = (1 + math.sqrt(5)) / 2\n",
    "    return round((phi**n - (1 - phi)**n) / math.sqrt(5))\n",
    "\n",
    "\n",
    "sum, i = 0, 3\n",
    "while True:\n",
    "    f = fib(i)\n",
    "    if f > 4e6:\n",
    "        break\n",
    "    sum += f\n",
    "    i += 3\n",
    "\n",
    "print(sum)"
   ]
  },
  {
   "cell_type": "markdown",
   "metadata": {},
   "source": [
    "# Problem 3"
   ]
  },
  {
   "cell_type": "code",
   "execution_count": 4,
   "metadata": {},
   "outputs": [
    {
     "name": "stdout",
     "output_type": "stream",
     "text": [
      "[71, 839, 1471, 6857]\n",
      "600851475143\n"
     ]
    }
   ],
   "source": [
    "import math\n",
    "\n",
    "target = 600851475143\n",
    "factors = []\n",
    "\n",
    "for i in range(2, int(math.sqrt(target))+1):\n",
    "    while target % i == 0:\n",
    "        factors.append(i)\n",
    "        target /= i\n",
    "\n",
    "print(factors)\n",
    "p = 1\n",
    "for f in factors:\n",
    "    p *= f\n",
    "print(p)"
   ]
  },
  {
   "cell_type": "markdown",
   "metadata": {},
   "source": [
    "# Problem 4"
   ]
  },
  {
   "cell_type": "code",
   "execution_count": 14,
   "metadata": {},
   "outputs": [
    {
     "name": "stdout",
     "output_type": "stream",
     "text": [
      "906609\n"
     ]
    }
   ],
   "source": [
    "maximum = 0\n",
    "\n",
    "for i in range(100, 1000):\n",
    "    for j in range(i, 1000):\n",
    "        p = i * j\n",
    "        if p == int(str(p)[::-1]):\n",
    "            maximum = max(p, maximum)\n",
    "\n",
    "print(maximum)"
   ]
  },
  {
   "cell_type": "markdown",
   "metadata": {},
   "source": [
    "# Problem 5"
   ]
  },
  {
   "cell_type": "code",
   "execution_count": 18,
   "metadata": {},
   "outputs": [
    {
     "name": "stdout",
     "output_type": "stream",
     "text": [
      "232792560\n"
     ]
    }
   ],
   "source": [
    "import math\n",
    "\n",
    "curr = 2\n",
    "for i in range(3, 21):\n",
    "    curr = curr * i // math.gcd(curr, i)\n",
    "\n",
    "print(curr)"
   ]
  },
  {
   "cell_type": "markdown",
   "metadata": {},
   "source": [
    "# Problem 6"
   ]
  },
  {
   "cell_type": "code",
   "execution_count": 21,
   "metadata": {},
   "outputs": [
    {
     "name": "stdout",
     "output_type": "stream",
     "text": [
      "25164150\n"
     ]
    }
   ],
   "source": [
    "def get_square_sum(n):\n",
    "    return n * (n + 1) * (2 * n + 1) // 6\n",
    "\n",
    "def get_sum(n):\n",
    "    return n * (n + 1) // 2\n",
    "\n",
    "sum = get_sum(100)\n",
    "square_sum = get_square_sum(100)\n",
    "print(sum**2 - square_sum)"
   ]
  },
  {
   "cell_type": "markdown",
   "metadata": {},
   "source": [
    "# Problem 7"
   ]
  },
  {
   "cell_type": "code",
   "execution_count": 2,
   "metadata": {},
   "outputs": [
    {
     "data": {
      "application/vnd.jupyter.widget-view+json": {
       "model_id": "66ba1f2fa2f54142be8b0a5210e6eb32",
       "version_major": 2,
       "version_minor": 0
      },
      "text/plain": [
       "  0%|          | 0/10001 [00:00<?, ?it/s]"
      ]
     },
     "metadata": {},
     "output_type": "display_data"
    },
    {
     "name": "stdout",
     "output_type": "stream",
     "text": [
      "104743\n"
     ]
    }
   ],
   "source": [
    "import math\n",
    "from tqdm.notebook import tqdm\n",
    "\n",
    "N = 10001\n",
    "seive = set(i for i in range(2, int(N * math.log(N) * 2)))\n",
    "\n",
    "for _ in tqdm(range(N)):\n",
    "    p = min(seive)\n",
    "    seive -= set(range(p, max(seive) + 1, p))\n",
    "\n",
    "print(p)"
   ]
  },
  {
   "cell_type": "markdown",
   "metadata": {},
   "source": [
    "# Problem 8"
   ]
  },
  {
   "cell_type": "code",
   "execution_count": 6,
   "metadata": {},
   "outputs": [
    {
     "name": "stdout",
     "output_type": "stream",
     "text": [
      "23514624000\n"
     ]
    }
   ],
   "source": [
    "N = \"\"\"73167176531330624919225119674426574742355349194934\n",
    "96983520312774506326239578318016984801869478851843\n",
    "85861560789112949495459501737958331952853208805511\n",
    "12540698747158523863050715693290963295227443043557\n",
    "66896648950445244523161731856403098711121722383113\n",
    "62229893423380308135336276614282806444486645238749\n",
    "30358907296290491560440772390713810515859307960866\n",
    "70172427121883998797908792274921901699720888093776\n",
    "65727333001053367881220235421809751254540594752243\n",
    "52584907711670556013604839586446706324415722155397\n",
    "53697817977846174064955149290862569321978468622482\n",
    "83972241375657056057490261407972968652414535100474\n",
    "82166370484403199890008895243450658541227588666881\n",
    "16427171479924442928230863465674813919123162824586\n",
    "17866458359124566529476545682848912883142607690042\n",
    "24219022671055626321111109370544217506941658960408\n",
    "07198403850962455444362981230987879927244284909188\n",
    "84580156166097919133875499200524063689912560717606\n",
    "05886116467109405077541002256983155200055935729725\n",
    "71636269561882670428252483600823257530420752963450\n",
    "\"\"\"\n",
    "N = N.replace(\"\\n\", \"\")\n",
    "\n",
    "def getProduct(string):\n",
    "    product = 1\n",
    "    for i in string:\n",
    "        product *= int(i)\n",
    "    return product\n",
    "\n",
    "max_product = 0\n",
    "for i in range(len(N) - 13):\n",
    "    max_product = max(max_product, getProduct(N[i:i+13]))\n",
    "\n",
    "print(max_product)"
   ]
  },
  {
   "cell_type": "markdown",
   "metadata": {},
   "source": [
    "# Problem 9"
   ]
  },
  {
   "cell_type": "code",
   "execution_count": 11,
   "metadata": {},
   "outputs": [
    {
     "name": "stdout",
     "output_type": "stream",
     "text": [
      "31875000\n"
     ]
    }
   ],
   "source": [
    "b = 1\n",
    "while b < 500:\n",
    "    if (500 - b) * 1000 % (1000 - b) == 0:\n",
    "        a = (500 - b) * 1000 // (1000 - b)\n",
    "        break\n",
    "    b += 1\n",
    "\n",
    "print(a * b * (1000 - a - b))"
   ]
  },
  {
   "cell_type": "markdown",
   "metadata": {},
   "source": [
    "# Problem 10"
   ]
  },
  {
   "cell_type": "code",
   "execution_count": 1,
   "metadata": {},
   "outputs": [
    {
     "name": "stdout",
     "output_type": "stream",
     "text": [
      "142913828922\n"
     ]
    }
   ],
   "source": [
    "import math\n",
    "from tqdm.notebook import tqdm\n",
    "\n",
    "N = int(2e6)\n",
    "\n",
    "isPrime = [True] * (N+1)\n",
    "\n",
    "sum = 0\n",
    "\n",
    "i = 2\n",
    "while i < N:\n",
    "    while i<N and not isPrime[i]:\n",
    "        i += 1\n",
    "    if i == N:\n",
    "        break\n",
    "    sum += i\n",
    "    for j in range(i*i, N, i):\n",
    "        isPrime[j] = False\n",
    "    i += 1\n",
    "\n",
    "print(sum)\n",
    "        "
   ]
  },
  {
   "cell_type": "markdown",
   "metadata": {},
   "source": [
    "# Problem 11"
   ]
  },
  {
   "cell_type": "code",
   "execution_count": 6,
   "metadata": {},
   "outputs": [
    {
     "name": "stdout",
     "output_type": "stream",
     "text": [
      "70600674\n"
     ]
    }
   ],
   "source": [
    "grid = \"\"\"08 02 22 97 38 15 00 40 00 75 04 05 07 78 52 12 50 77 91 08\n",
    "49 49 99 40 17 81 18 57 60 87 17 40 98 43 69 48 04 56 62 00\n",
    "81 49 31 73 55 79 14 29 93 71 40 67 53 88 30 03 49 13 36 65\n",
    "52 70 95 23 04 60 11 42 69 24 68 56 01 32 56 71 37 02 36 91\n",
    "22 31 16 71 51 67 63 89 41 92 36 54 22 40 40 28 66 33 13 80\n",
    "24 47 32 60 99 03 45 02 44 75 33 53 78 36 84 20 35 17 12 50\n",
    "32 98 81 28 64 23 67 10 26 38 40 67 59 54 70 66 18 38 64 70\n",
    "67 26 20 68 02 62 12 20 95 63 94 39 63 08 40 91 66 49 94 21\n",
    "24 55 58 05 66 73 99 26 97 17 78 78 96 83 14 88 34 89 63 72\n",
    "21 36 23 09 75 00 76 44 20 45 35 14 00 61 33 97 34 31 33 95\n",
    "78 17 53 28 22 75 31 67 15 94 03 80 04 62 16 14 09 53 56 92\n",
    "16 39 05 42 96 35 31 47 55 58 88 24 00 17 54 24 36 29 85 57\n",
    "86 56 00 48 35 71 89 07 05 44 44 37 44 60 21 58 51 54 17 58\n",
    "19 80 81 68 05 94 47 69 28 73 92 13 86 52 17 77 04 89 55 40\n",
    "04 52 08 83 97 35 99 16 07 97 57 32 16 26 26 79 33 27 98 66\n",
    "88 36 68 87 57 62 20 72 03 46 33 67 46 55 12 32 63 93 53 69\n",
    "04 42 16 73 38 25 39 11 24 94 72 18 08 46 29 32 40 62 76 36\n",
    "20 69 36 41 72 30 23 88 34 62 99 69 82 67 59 85 74 04 36 16\n",
    "20 73 35 29 78 31 90 01 74 31 49 71 48 86 81 16 23 57 05 54\n",
    "01 70 54 71 83 51 54 69 16 92 33 48 61 43 52 01 89 19 67 48\"\"\"\n",
    "\n",
    "grid = [list(map(int, row.split())) for row in grid.split(\"\\n\")]\n",
    "\n",
    "max_product = 0\n",
    "\n",
    "# Left to Right\n",
    "for i in range(20):\n",
    "    for j in range(17):\n",
    "        max_product = max(max_product, grid[i][j] * grid[i][j+1] * grid[i][j+2] * grid[i][j+3])\n",
    "\n",
    "# Top to Bottom\n",
    "for i in range(17):\n",
    "    for j in range(20):\n",
    "        max_product = max(max_product, grid[i][j] * grid[i+1][j] * grid[i+2][j] * grid[i+3][j])\n",
    "\n",
    "# Diagonal Wise\n",
    "for i in range(17):\n",
    "    for j in range(17):\n",
    "        max_product = max(max_product, grid[i][j] * grid[i+1][j+1] * grid[i+2][j+2] * grid[i+3][j+3])\n",
    "\n",
    "# Anti-Diagonal Wise\n",
    "for i in range(3, 20):\n",
    "    for j in range(17):\n",
    "        max_product = max(max_product, grid[i][j] * grid[i-1][j+1] * grid[i-2][j+2] * grid[i-3][j+3])\n",
    "\n",
    "print(max_product)"
   ]
  },
  {
   "cell_type": "markdown",
   "metadata": {},
   "source": [
    "# Problem 12"
   ]
  },
  {
   "cell_type": "code",
   "execution_count": 7,
   "metadata": {},
   "outputs": [
    {
     "name": "stdout",
     "output_type": "stream",
     "text": [
      "76576500\n"
     ]
    }
   ],
   "source": [
    "from collections import defaultdict\n",
    "\n",
    "def numDivisors(n):\n",
    "    counts = defaultdict(int)\n",
    "    while n % 2 == 0:\n",
    "        n = n / 2\n",
    "        counts[2] += 1\n",
    "\n",
    "    for i in range(3,int(math.sqrt(n))+1,2):\n",
    "        while n % i== 0:\n",
    "            counts[i] += 1\n",
    "            n = n / i\n",
    "    if n > 2:\n",
    "        counts[n] += 1\n",
    "    \n",
    "    divisors = 1\n",
    "    for count in counts.values():\n",
    "        divisors *= count + 1\n",
    "    return divisors\n",
    "\n",
    "i = 1\n",
    "while True:\n",
    "    if numDivisors(i*(i+1)//2) > 500:\n",
    "        print(i*(i+1)//2)\n",
    "        break\n",
    "    i += 1"
   ]
  },
  {
   "cell_type": "markdown",
   "metadata": {},
   "source": [
    "# Problem 13"
   ]
  },
  {
   "cell_type": "code",
   "execution_count": 5,
   "metadata": {},
   "outputs": [
    {
     "data": {
      "text/plain": [
       "'5537376230'"
      ]
     },
     "execution_count": 5,
     "metadata": {},
     "output_type": "execute_result"
    }
   ],
   "source": [
    "nums = \"\"\"37107287533902102798797998220837590246510135740250\n",
    "46376937677490009712648124896970078050417018260538\n",
    "74324986199524741059474233309513058123726617309629\n",
    "91942213363574161572522430563301811072406154908250\n",
    "23067588207539346171171980310421047513778063246676\n",
    "89261670696623633820136378418383684178734361726757\n",
    "28112879812849979408065481931592621691275889832738\n",
    "44274228917432520321923589422876796487670272189318\n",
    "47451445736001306439091167216856844588711603153276\n",
    "70386486105843025439939619828917593665686757934951\n",
    "62176457141856560629502157223196586755079324193331\n",
    "64906352462741904929101432445813822663347944758178\n",
    "92575867718337217661963751590579239728245598838407\n",
    "58203565325359399008402633568948830189458628227828\n",
    "80181199384826282014278194139940567587151170094390\n",
    "35398664372827112653829987240784473053190104293586\n",
    "86515506006295864861532075273371959191420517255829\n",
    "71693888707715466499115593487603532921714970056938\n",
    "54370070576826684624621495650076471787294438377604\n",
    "53282654108756828443191190634694037855217779295145\n",
    "36123272525000296071075082563815656710885258350721\n",
    "45876576172410976447339110607218265236877223636045\n",
    "17423706905851860660448207621209813287860733969412\n",
    "81142660418086830619328460811191061556940512689692\n",
    "51934325451728388641918047049293215058642563049483\n",
    "62467221648435076201727918039944693004732956340691\n",
    "15732444386908125794514089057706229429197107928209\n",
    "55037687525678773091862540744969844508330393682126\n",
    "18336384825330154686196124348767681297534375946515\n",
    "80386287592878490201521685554828717201219257766954\n",
    "78182833757993103614740356856449095527097864797581\n",
    "16726320100436897842553539920931837441497806860984\n",
    "48403098129077791799088218795327364475675590848030\n",
    "87086987551392711854517078544161852424320693150332\n",
    "59959406895756536782107074926966537676326235447210\n",
    "69793950679652694742597709739166693763042633987085\n",
    "41052684708299085211399427365734116182760315001271\n",
    "65378607361501080857009149939512557028198746004375\n",
    "35829035317434717326932123578154982629742552737307\n",
    "94953759765105305946966067683156574377167401875275\n",
    "88902802571733229619176668713819931811048770190271\n",
    "25267680276078003013678680992525463401061632866526\n",
    "36270218540497705585629946580636237993140746255962\n",
    "24074486908231174977792365466257246923322810917141\n",
    "91430288197103288597806669760892938638285025333403\n",
    "34413065578016127815921815005561868836468420090470\n",
    "23053081172816430487623791969842487255036638784583\n",
    "11487696932154902810424020138335124462181441773470\n",
    "63783299490636259666498587618221225225512486764533\n",
    "67720186971698544312419572409913959008952310058822\n",
    "95548255300263520781532296796249481641953868218774\n",
    "76085327132285723110424803456124867697064507995236\n",
    "37774242535411291684276865538926205024910326572967\n",
    "23701913275725675285653248258265463092207058596522\n",
    "29798860272258331913126375147341994889534765745501\n",
    "18495701454879288984856827726077713721403798879715\n",
    "38298203783031473527721580348144513491373226651381\n",
    "34829543829199918180278916522431027392251122869539\n",
    "40957953066405232632538044100059654939159879593635\n",
    "29746152185502371307642255121183693803580388584903\n",
    "41698116222072977186158236678424689157993532961922\n",
    "62467957194401269043877107275048102390895523597457\n",
    "23189706772547915061505504953922979530901129967519\n",
    "86188088225875314529584099251203829009407770775672\n",
    "11306739708304724483816533873502340845647058077308\n",
    "82959174767140363198008187129011875491310547126581\n",
    "97623331044818386269515456334926366572897563400500\n",
    "42846280183517070527831839425882145521227251250327\n",
    "55121603546981200581762165212827652751691296897789\n",
    "32238195734329339946437501907836945765883352399886\n",
    "75506164965184775180738168837861091527357929701337\n",
    "62177842752192623401942399639168044983993173312731\n",
    "32924185707147349566916674687634660915035914677504\n",
    "99518671430235219628894890102423325116913619626622\n",
    "73267460800591547471830798392868535206946944540724\n",
    "76841822524674417161514036427982273348055556214818\n",
    "97142617910342598647204516893989422179826088076852\n",
    "87783646182799346313767754307809363333018982642090\n",
    "10848802521674670883215120185883543223812876952786\n",
    "71329612474782464538636993009049310363619763878039\n",
    "62184073572399794223406235393808339651327408011116\n",
    "66627891981488087797941876876144230030984490851411\n",
    "60661826293682836764744779239180335110989069790714\n",
    "85786944089552990653640447425576083659976645795096\n",
    "66024396409905389607120198219976047599490197230297\n",
    "64913982680032973156037120041377903785566085089252\n",
    "16730939319872750275468906903707539413042652315011\n",
    "94809377245048795150954100921645863754710598436791\n",
    "78639167021187492431995700641917969777599028300699\n",
    "15368713711936614952811305876380278410754449733078\n",
    "40789923115535562561142322423255033685442488917353\n",
    "44889911501440648020369068063960672322193204149535\n",
    "41503128880339536053299340368006977710650566631954\n",
    "81234880673210146739058568557934581403627822703280\n",
    "82616570773948327592232845941706525094512325230608\n",
    "22918802058777319719839450180888072429661980811197\n",
    "77158542502016545090413245809786882778948721859617\n",
    "72107838435069186155435662884062257473692284509516\n",
    "20849603980134001723930671666823555245252804609722\n",
    "53503534226472524250874054075591789781264330331690\"\"\"\n",
    "\n",
    "nums = list(map(int, nums.split(\"\\n\")))\n",
    "str(sum(nums))[:10]"
   ]
  },
  {
   "cell_type": "markdown",
   "metadata": {},
   "source": [
    "# Problem 14"
   ]
  },
  {
   "cell_type": "code",
   "execution_count": 8,
   "metadata": {},
   "outputs": [
    {
     "data": {
      "application/vnd.jupyter.widget-view+json": {
       "model_id": "702fce73429f4b6aa75ba9f3493e9d93",
       "version_major": 2,
       "version_minor": 0
      },
      "text/plain": [
       "  0%|          | 0/1000000 [00:00<?, ?it/s]"
      ]
     },
     "metadata": {},
     "output_type": "display_data"
    },
    {
     "name": "stdout",
     "output_type": "stream",
     "text": [
      "837799\n"
     ]
    }
   ],
   "source": [
    "from tqdm.notebook import tqdm\n",
    "\n",
    "def collatz(n):\n",
    "    if n % 2 == 0:\n",
    "        return n // 2\n",
    "    return 3 * n + 1\n",
    "\n",
    "def performChain(n):\n",
    "    l = 1\n",
    "    while n != 1:\n",
    "        n = collatz(n)\n",
    "        l += 1\n",
    "    return l\n",
    "\n",
    "num, max_length = 1, 0\n",
    "for i in tqdm(range(1, int(1e6+1))):\n",
    "    length = performChain(i)\n",
    "    if length > max_length:\n",
    "        num = i\n",
    "        max_length = length\n",
    "\n",
    "print(num)"
   ]
  },
  {
   "cell_type": "markdown",
   "metadata": {},
   "source": [
    "# Problem 15"
   ]
  },
  {
   "cell_type": "code",
   "execution_count": 12,
   "metadata": {},
   "outputs": [
    {
     "name": "stdout",
     "output_type": "stream",
     "text": [
      "137846528820\n"
     ]
    }
   ],
   "source": [
    "product = 1\n",
    "\n",
    "for i in range(20):\n",
    "    product *= (40 - i) / (i + 1)\n",
    "\n",
    "print(round(product))"
   ]
  },
  {
   "cell_type": "markdown",
   "metadata": {},
   "source": [
    "# Problem 16"
   ]
  },
  {
   "cell_type": "code",
   "execution_count": 14,
   "metadata": {},
   "outputs": [
    {
     "data": {
      "text/plain": [
       "1366"
      ]
     },
     "execution_count": 14,
     "metadata": {},
     "output_type": "execute_result"
    }
   ],
   "source": [
    "sum(int(i) for i in str(2**1000))"
   ]
  },
  {
   "cell_type": "markdown",
   "metadata": {},
   "source": [
    "# Problem 17"
   ]
  },
  {
   "cell_type": "code",
   "execution_count": 4,
   "metadata": {},
   "outputs": [
    {
     "data": {
      "text/plain": [
       "21124"
      ]
     },
     "execution_count": 4,
     "metadata": {},
     "output_type": "execute_result"
    }
   ],
   "source": [
    "to_ten = ['one', 'two', 'three', 'four', 'five', 'six', 'seven', 'eight', 'nine']\n",
    "to_twenty = ['eleven', 'twelve', 'thirteen', 'fourteen', 'fifteen', 'sixteen', 'seventeen', 'eighteen', 'nineteen']\n",
    "\n",
    "tens = ['twenty', 'thirty', 'forty', 'fifty', 'sixty', 'seventy', 'eighty', 'ninety']\n",
    "hundred = 'hundred'\n",
    "thousand = 'thousand'\n",
    "\n",
    "to_ten_len = sum(len(i) for i in to_ten)\n",
    "one_to_nineteen = to_ten_len + sum(len(i) for i in to_twenty) + len('ten')\n",
    "to_99 = one_to_nineteen + sum(10 * len(i) + to_ten_len for i in tens)\n",
    "\n",
    "to_999 = to_99 + sum((len(i) + len(hundred)) * 100 + len('and') * 99 + to_99 for i in to_ten)\n",
    "to_1000 = to_999 + len(to_ten[0]) + len(thousand)\n",
    "to_1000"
   ]
  },
  {
   "cell_type": "markdown",
   "metadata": {},
   "source": [
    "# Problem 18"
   ]
  },
  {
   "cell_type": "code",
   "execution_count": 13,
   "metadata": {},
   "outputs": [
    {
     "data": {
      "text/plain": [
       "[1074]"
      ]
     },
     "execution_count": 13,
     "metadata": {},
     "output_type": "execute_result"
    }
   ],
   "source": [
    "pyramid = \"\"\"75\n",
    "95 64\n",
    "17 47 82\n",
    "18 35 87 10\n",
    "20 04 82 47 65\n",
    "19 01 23 75 03 34\n",
    "88 02 77 73 07 63 67\n",
    "99 65 04 28 06 16 70 92\n",
    "41 41 26 56 83 40 80 70 33\n",
    "41 48 72 33 47 32 37 16 94 29\n",
    "53 71 44 65 25 43 91 52 97 51 14\n",
    "70 11 33 28 77 73 17 78 39 68 17 57\n",
    "91 71 52 38 17 14 91 43 58 50 27 29 48\n",
    "63 66 04 68 89 53 67 30 73 16 69 87 40 31\n",
    "04 62 98 27 23 09 70 98 73 93 38 53 60 04 23\"\"\"\n",
    "\n",
    "pyramid = [list(map(int, row.split())) for row in pyramid.split(\"\\n\")]\n",
    "\n",
    "for i in range(len(pyramid)-2, -1, -1):\n",
    "    for j in range(i+1):\n",
    "        pyramid[i][j] += max(pyramid[i+1][j], pyramid[i+1][j+1])\n",
    "\n",
    "pyramid[0]"
   ]
  },
  {
   "cell_type": "markdown",
   "metadata": {},
   "source": [
    "# Problem 19"
   ]
  },
  {
   "cell_type": "code",
   "execution_count": 5,
   "metadata": {},
   "outputs": [
    {
     "name": "stdout",
     "output_type": "stream",
     "text": [
      "171\n"
     ]
    }
   ],
   "source": [
    "first = [1, 4, 4, 0, 2, 5, 0, 3, 6, 1, 4, 6]\n",
    "\n",
    "sunday_count = 0\n",
    "for year in range(1901, 2001):\n",
    "    isLeap = year % 4 == 0 and (year % 100 != 0 or year % 400 == 0)\n",
    "    first[0] = (first[0] + 1) % 7\n",
    "    first[1] = (first[1] + 1) % 7\n",
    "    for i in range(2, 12):\n",
    "        first[i] = (first[i] + 1 + isLeap) % 7\n",
    "    sunday_count += first.count(0)\n",
    "\n",
    "print(sunday_count)"
   ]
  },
  {
   "cell_type": "markdown",
   "metadata": {},
   "source": [
    "# Problem 20"
   ]
  },
  {
   "cell_type": "code",
   "execution_count": 9,
   "metadata": {},
   "outputs": [
    {
     "data": {
      "text/plain": [
       "648"
      ]
     },
     "execution_count": 9,
     "metadata": {},
     "output_type": "execute_result"
    }
   ],
   "source": [
    "def factorial(n):\n",
    "    if n == 0:\n",
    "        return 1\n",
    "    return n * factorial(n-1)\n",
    "\n",
    "sum(map(int, str(factorial(100))))"
   ]
  },
  {
   "cell_type": "markdown",
   "metadata": {},
   "source": [
    "# Problem 21"
   ]
  },
  {
   "cell_type": "code",
   "execution_count": 14,
   "metadata": {},
   "outputs": [
    {
     "data": {
      "text/plain": [
       "31626"
      ]
     },
     "execution_count": 14,
     "metadata": {},
     "output_type": "execute_result"
    }
   ],
   "source": [
    "from collections import defaultdict\n",
    "\n",
    "def primeFactors(n):\n",
    "    factors = defaultdict(int)\n",
    "    while n % 2 == 0:\n",
    "        factors[2] += 1\n",
    "        n = n // 2\n",
    "    for i in range(3, int(n**0.5)+1, 2):\n",
    "        while n % i == 0:\n",
    "            factors[i] += 1\n",
    "            n = n // i\n",
    "    if n > 2:\n",
    "        factors[n] += 1\n",
    "    return factors\n",
    "\n",
    "def sumOfFactors(n):\n",
    "    factors = primeFactors(n)\n",
    "    sum = 1\n",
    "    for factor, power in factors.items():\n",
    "        sum *= (factor**(power+1) - 1) // (factor - 1)\n",
    "    return sum - n\n",
    "\n",
    "amicable_pair = set()\n",
    "amicable_sum = 0\n",
    "\n",
    "for i in range(2, 10000):\n",
    "    divSum = sumOfFactors(i)\n",
    "    if (divSum != i) and (divSum, i) in amicable_pair:\n",
    "        amicable_sum += i + divSum\n",
    "    amicable_pair.add((i, divSum))\n",
    "\n",
    "amicable_sum"
   ]
  },
  {
   "cell_type": "markdown",
   "metadata": {},
   "source": [
    "# Problem 22"
   ]
  },
  {
   "cell_type": "code",
   "execution_count": 30,
   "metadata": {},
   "outputs": [
    {
     "data": {
      "text/plain": [
       "871198282"
      ]
     },
     "execution_count": 30,
     "metadata": {},
     "output_type": "execute_result"
    }
   ],
   "source": [
    "with open(\"22.txt\", \"r\") as f:\n",
    "    names = f.read()\n",
    "    names = names.split(\",\")\n",
    "    names = list(map(lambda x: x[1:-1], names))\n",
    "\n",
    "names.sort()\n",
    "\n",
    "scores = 0\n",
    "for i in range(len(names)):\n",
    "    scores += (i+1) * sum(ord(c) - ord('A') + 1 for c in names[i])\n",
    "\n",
    "scores"
   ]
  },
  {
   "cell_type": "markdown",
   "metadata": {},
   "source": [
    "# Problem 21"
   ]
  },
  {
   "cell_type": "code",
   "execution_count": 38,
   "metadata": {},
   "outputs": [
    {
     "data": {
      "application/vnd.jupyter.widget-view+json": {
       "model_id": "933c99671019469a82de4487855ccdb7",
       "version_major": 2,
       "version_minor": 0
      },
      "text/plain": [
       "  0%|          | 0/28123 [00:00<?, ?it/s]"
      ]
     },
     "metadata": {},
     "output_type": "display_data"
    },
    {
     "data": {
      "text/plain": [
       "(4179871, 20161)"
      ]
     },
     "execution_count": 38,
     "metadata": {},
     "output_type": "execute_result"
    }
   ],
   "source": [
    "from tqdm.notebook import tqdm\n",
    "from collections import defaultdict\n",
    "\n",
    "limit = 28123\n",
    "\n",
    "\n",
    "def primeFactors(n):\n",
    "    factors = defaultdict(int)\n",
    "    while n % 2 == 0:\n",
    "        factors[2] += 1\n",
    "        n = n // 2\n",
    "    for i in range(3, int(n**0.5)+1, 2):\n",
    "        while n % i == 0:\n",
    "            factors[i] += 1\n",
    "            n = n // i\n",
    "    if n > 2:\n",
    "        factors[n] += 1\n",
    "    return factors\n",
    "\n",
    "\n",
    "def sumOfFactors(n):\n",
    "    factors = primeFactors(n)\n",
    "    sum = 1\n",
    "    for factor, power in factors.items():\n",
    "        sum *= (factor**(power+1) - 1) // (factor - 1)\n",
    "    return sum - n\n",
    "\n",
    "abundant = set()\n",
    "\n",
    "for i in range(2, limit+1):\n",
    "    if sumOfFactors(i) > i:\n",
    "        abundant.add(i)\n",
    "\n",
    "def isSumOfTwoAbundant(abundant, n):\n",
    "    for i in abundant:\n",
    "        if (n-i) in abundant:\n",
    "            return True\n",
    "    return False\n",
    "\n",
    "abundant_sum = 0\n",
    "maxNum = 0\n",
    "\n",
    "for i in tqdm(range(1, limit+1)):\n",
    "    if not isSumOfTwoAbundant(abundant, i):\n",
    "        abundant_sum += i\n",
    "        maxNum = i\n",
    "\n",
    "abundant_sum, maxNum"
   ]
  },
  {
   "cell_type": "markdown",
   "metadata": {},
   "source": [
    "# Problem 22"
   ]
  },
  {
   "cell_type": "code",
   "execution_count": 56,
   "metadata": {},
   "outputs": [
    {
     "data": {
      "text/plain": [
       "'2783915460'"
      ]
     },
     "execution_count": 56,
     "metadata": {},
     "output_type": "execute_result"
    }
   ],
   "source": [
    "def factorial(n):\n",
    "    if n == 0:\n",
    "        return 1\n",
    "    return n * factorial(n-1)\n",
    "\n",
    "sequence = []\n",
    "limit = int(1e6)-1\n",
    "\n",
    "for i in range(9, -1, -1):\n",
    "    sequence.append(limit // factorial(i))\n",
    "    limit -= sequence[-1] * factorial(i)\n",
    "\n",
    "numbers = list(range(10))\n",
    "result = \"\"\n",
    "\n",
    "for num in sequence:\n",
    "    result += str(numbers[num])\n",
    "    del numbers[num]\n",
    "\n",
    "result"
   ]
  },
  {
   "cell_type": "markdown",
   "metadata": {},
   "source": [
    "# Problem 23"
   ]
  },
  {
   "cell_type": "code",
   "execution_count": 67,
   "metadata": {},
   "outputs": [
    {
     "data": {
      "text/plain": [
       "4781.859270753068"
      ]
     },
     "execution_count": 67,
     "metadata": {},
     "output_type": "execute_result"
    }
   ],
   "source": [
    "import math\n",
    "\n",
    "phi = (1 + 5**0.5) / 2\n",
    "\n",
    "(999 + math.log10(5**0.5)) / math.log10(phi)"
   ]
  },
  {
   "cell_type": "markdown",
   "metadata": {},
   "source": [
    "# Problem 24"
   ]
  },
  {
   "cell_type": "code",
   "execution_count": 84,
   "metadata": {},
   "outputs": [
    {
     "data": {
      "text/plain": [
       "(983, 982)"
      ]
     },
     "execution_count": 84,
     "metadata": {},
     "output_type": "execute_result"
    }
   ],
   "source": [
    "def manualDiv(n):\n",
    "    num = 1\n",
    "    decimals = []\n",
    "    numSeen = set([1])\n",
    "    for _ in range(n):\n",
    "        num *= 10\n",
    "        decimals.append(num // n)\n",
    "        num = num % n\n",
    "        if num in numSeen:\n",
    "            break\n",
    "        numSeen.add(num)\n",
    "    return decimals\n",
    "\n",
    "maxLen, maxNum = 0, 0\n",
    "for i in range(2, 1000):\n",
    "    decimals = manualDiv(i)\n",
    "    if len(decimals) > maxLen:\n",
    "        maxLen = len(decimals)\n",
    "        maxNum = i\n",
    "\n",
    "maxNum, maxLen"
   ]
  },
  {
   "cell_type": "markdown",
   "metadata": {},
   "source": [
    "# Problem 25"
   ]
  },
  {
   "cell_type": "code",
   "execution_count": 94,
   "metadata": {},
   "outputs": [
    {
     "data": {
      "application/vnd.jupyter.widget-view+json": {
       "model_id": "d7f9d6f4d1454e3caf02701e0ac51c2f",
       "version_major": 2,
       "version_minor": 0
      },
      "text/plain": [
       "  0%|          | 0/1999 [00:00<?, ?it/s]"
      ]
     },
     "metadata": {},
     "output_type": "display_data"
    },
    {
     "data": {
      "text/plain": [
       "(-61, 971, -59231, 71)"
      ]
     },
     "execution_count": 94,
     "metadata": {},
     "output_type": "execute_result"
    }
   ],
   "source": [
    "from tqdm.notebook import tqdm\n",
    "\n",
    "N = int(1e6)\n",
    "\n",
    "isPrime = [True] * (N+1)\n",
    "isPrime[0], isPrime[1] = False, False\n",
    "\n",
    "i = 2\n",
    "while i < N:\n",
    "    while i < N and not isPrime[i]:\n",
    "        i += 1\n",
    "    if i == N:\n",
    "        break\n",
    "    for j in range(i*i, N, i):\n",
    "        isPrime[j] = False\n",
    "    i += 1\n",
    "\n",
    "maxLen = 0\n",
    "for a in tqdm(range(-999, 1000)):\n",
    "    for b in range(-1000, 1001):\n",
    "        n = 0\n",
    "        while isPrime[n**2 + a*n + b]:\n",
    "            n += 1\n",
    "        if n > maxLen:\n",
    "            maxLen = n\n",
    "            maxA, maxB = a, b\n",
    "\n",
    "maxA, maxB, maxA * maxB, maxLen"
   ]
  },
  {
   "cell_type": "markdown",
   "metadata": {},
   "source": [
    "# Problem 26"
   ]
  },
  {
   "cell_type": "code",
   "execution_count": 97,
   "metadata": {},
   "outputs": [
    {
     "data": {
      "text/plain": [
       "669171001"
      ]
     },
     "execution_count": 97,
     "metadata": {},
     "output_type": "execute_result"
    }
   ],
   "source": [
    "L = 1001\n",
    "l = (L+1)//2\n",
    "\n",
    "norm_sum = lambda n: n * (n + 1) // 2\n",
    "sq_sum = lambda n: n * (n + 1) * (2 * n + 1) // 6\n",
    "\n",
    "total_sum = 16 * sq_sum(l) - 28 * norm_sum(l) + 16 * l - 3\n",
    "total_sum"
   ]
  },
  {
   "cell_type": "markdown",
   "metadata": {},
   "source": [
    "# Problem 29"
   ]
  },
  {
   "cell_type": "code",
   "execution_count": 102,
   "metadata": {},
   "outputs": [
    {
     "data": {
      "text/plain": [
       "9183"
      ]
     },
     "execution_count": 102,
     "metadata": {},
     "output_type": "execute_result"
    }
   ],
   "source": [
    "seen = set()\n",
    "\n",
    "for a in range(2, 101):\n",
    "    for b in range(2, 101):\n",
    "        seen.add(a**b)\n",
    "\n",
    "len(seen)"
   ]
  },
  {
   "cell_type": "markdown",
   "metadata": {},
   "source": [
    "# Problem 30"
   ]
  },
  {
   "cell_type": "code",
   "execution_count": 120,
   "metadata": {},
   "outputs": [
    {
     "data": {
      "application/vnd.jupyter.widget-view+json": {
       "model_id": "68df45e008954aab9bb07e590bdfaf86",
       "version_major": 2,
       "version_minor": 0
      },
      "text/plain": [
       "  0%|          | 0/999998 [00:00<?, ?it/s]"
      ]
     },
     "metadata": {},
     "output_type": "display_data"
    },
    {
     "data": {
      "text/plain": [
       "443839"
      ]
     },
     "execution_count": 120,
     "metadata": {},
     "output_type": "execute_result"
    }
   ],
   "source": [
    "from tqdm.notebook import tqdm\n",
    "\n",
    "n = 5\n",
    "digit_sum = lambda num: sum(int(i)**n for i in str(num))\n",
    "\n",
    "result = 0\n",
    "for i in tqdm(range(2, int(1e6))):\n",
    "    if i == digit_sum(i):\n",
    "        result += i\n",
    "\n",
    "result"
   ]
  },
  {
   "cell_type": "markdown",
   "metadata": {},
   "source": [
    "# Problem 31"
   ]
  },
  {
   "cell_type": "code",
   "execution_count": 121,
   "metadata": {},
   "outputs": [
    {
     "data": {
      "text/plain": [
       "73682"
      ]
     },
     "execution_count": 121,
     "metadata": {},
     "output_type": "execute_result"
    }
   ],
   "source": [
    "rhs = 200\n",
    "coeffs = [1, 2, 5, 10, 20, 50, 100, 200]\n",
    "\n",
    "ways = [0] * (rhs+1)\n",
    "ways[0] = 1\n",
    "\n",
    "for i in range(len(coeffs)):\n",
    "    for j in range(coeffs[i], rhs+1):\n",
    "        ways[j] += ways[j - coeffs[i]]\n",
    "\n",
    "ways[-1]"
   ]
  },
  {
   "cell_type": "markdown",
   "metadata": {},
   "source": [
    "# Problem 32"
   ]
  },
  {
   "cell_type": "code",
   "execution_count": 131,
   "metadata": {},
   "outputs": [
    {
     "data": {
      "application/vnd.jupyter.widget-view+json": {
       "model_id": "40deec0ab2c84d24a3788eb08e5a0d0c",
       "version_major": 2,
       "version_minor": 0
      },
      "text/plain": [
       "  0%|          | 0/9000 [00:00<?, ?it/s]"
      ]
     },
     "metadata": {},
     "output_type": "display_data"
    },
    {
     "data": {
      "text/plain": [
       "45228"
      ]
     },
     "execution_count": 131,
     "metadata": {},
     "output_type": "execute_result"
    }
   ],
   "source": [
    "from tqdm.notebook import tqdm\n",
    "\n",
    "\n",
    "def factorPairs(n):\n",
    "    return list((i, n//i) for i in range(1, int(n**0.5) + 1) if n % i == 0)\n",
    "\n",
    "result = 0\n",
    "for rhs in tqdm(range(1000, 10000)):\n",
    "    facPairs = factorPairs(rhs)\n",
    "    for a, b in facPairs:\n",
    "        check = str(a) + str(b) + str(rhs)\n",
    "        check = sorted(check)\n",
    "        if int(\"\".join(check)) == 123456789:\n",
    "            result += rhs\n",
    "            break\n",
    "result"
   ]
  },
  {
   "cell_type": "markdown",
   "metadata": {},
   "source": [
    "# Problem 33"
   ]
  },
  {
   "cell_type": "code",
   "execution_count": 141,
   "metadata": {},
   "outputs": [
    {
     "data": {
      "text/plain": [
       "100"
      ]
     },
     "execution_count": 141,
     "metadata": {},
     "output_type": "execute_result"
    }
   ],
   "source": [
    "import math\n",
    "\n",
    "numProd = 1\n",
    "denProd = 1\n",
    "\n",
    "for a0 in range(1, 10):\n",
    "    for a1 in range(1, 10):\n",
    "        for b0 in range(1, 10):\n",
    "            for b1 in range(1, 10):\n",
    "                con1 = 10*a1*b1 == a0 * (b0 + 9*b1) and a1==b0 and b1 > a0\n",
    "                con2 = 10*a1*b1 == b0 * (a0 + 9*a1) and a0 == b1 and b0 > a1\n",
    "                if con1 or con2:\n",
    "                    numProd *= int(f'{a1}{a0}')\n",
    "                    denProd *= int(f'{b1}{b0}')\n",
    "\n",
    "result = denProd // math.gcd(numProd, denProd)\n",
    "result"
   ]
  },
  {
   "cell_type": "markdown",
   "metadata": {},
   "source": [
    "# Problem 34"
   ]
  },
  {
   "cell_type": "code",
   "execution_count": 150,
   "metadata": {},
   "outputs": [
    {
     "name": "stdout",
     "output_type": "stream",
     "text": [
      "MaxDigits: 7\n"
     ]
    },
    {
     "data": {
      "application/vnd.jupyter.widget-view+json": {
       "model_id": "f9af8458cd2b4b9382f4f0194060a64c",
       "version_major": 2,
       "version_minor": 0
      },
      "text/plain": [
       "  0%|          | 0/9999997 [00:00<?, ?it/s]"
      ]
     },
     "metadata": {},
     "output_type": "display_data"
    },
    {
     "data": {
      "text/plain": [
       "40730"
      ]
     },
     "execution_count": 150,
     "metadata": {},
     "output_type": "execute_result"
    }
   ],
   "source": [
    "import math\n",
    "\n",
    "def factorial(n):\n",
    "    if n == 0:\n",
    "        return 1\n",
    "    return n * factorial(n-1)\n",
    "\n",
    "for maxDigits in range(1, 10):\n",
    "    if maxDigits > int(math.log10(maxDigits * factorial(10))):\n",
    "        break\n",
    "maxDigits -= 1\n",
    "print(\"MaxDigits:\", maxDigits)\n",
    "\n",
    "result = 0\n",
    "for i in tqdm(range(3, 10**maxDigits)):\n",
    "    if i == sum(factorial(int(digit)) for digit in str(i)):\n",
    "        result += i\n",
    "\n",
    "result"
   ]
  },
  {
   "cell_type": "markdown",
   "metadata": {},
   "source": [
    "# Problem 35"
   ]
  },
  {
   "cell_type": "code",
   "execution_count": 152,
   "metadata": {},
   "outputs": [
    {
     "data": {
      "application/vnd.jupyter.widget-view+json": {
       "model_id": "d13bf6c2b9fc4562bc8e3dd30ebc2764",
       "version_major": 2,
       "version_minor": 0
      },
      "text/plain": [
       "  0%|          | 0/1000001 [00:00<?, ?it/s]"
      ]
     },
     "metadata": {},
     "output_type": "display_data"
    },
    {
     "data": {
      "text/plain": [
       "55"
      ]
     },
     "execution_count": 152,
     "metadata": {},
     "output_type": "execute_result"
    }
   ],
   "source": [
    "N = int(1e6)\n",
    "\n",
    "isPrime = [True] * (N+1)\n",
    "isPrime[0], isPrime[1] = False, False\n",
    "\n",
    "i = 2\n",
    "while i < N:\n",
    "    while i < N and not isPrime[i]:\n",
    "        i += 1\n",
    "    if i == N:\n",
    "        break\n",
    "    for j in range(i*i, N, i):\n",
    "        isPrime[j] = False\n",
    "    i += 1\n",
    "\n",
    "count = 0\n",
    "for i in tqdm(range(N+1)):\n",
    "    if isPrime[i]:\n",
    "        allCirc = True\n",
    "        for j in range(len(str(i))):\n",
    "            if not isPrime[int(str(i)[j:] + str(i)[:j])]:\n",
    "                allCirc = False\n",
    "                break\n",
    "        if allCirc:\n",
    "            count += 1\n",
    "\n",
    "count"
   ]
  },
  {
   "cell_type": "markdown",
   "metadata": {},
   "source": [
    "# Problem 36"
   ]
  },
  {
   "cell_type": "code",
   "execution_count": 154,
   "metadata": {},
   "outputs": [
    {
     "data": {
      "application/vnd.jupyter.widget-view+json": {
       "model_id": "947b8aa8dea842cb9a401f42725f791f",
       "version_major": 2,
       "version_minor": 0
      },
      "text/plain": [
       "  0%|          | 0/999999 [00:00<?, ?it/s]"
      ]
     },
     "metadata": {},
     "output_type": "display_data"
    },
    {
     "data": {
      "text/plain": [
       "872187"
      ]
     },
     "execution_count": 154,
     "metadata": {},
     "output_type": "execute_result"
    }
   ],
   "source": [
    "N = int(1e6)\n",
    "\n",
    "def getBin(n):\n",
    "    return bin(n)[2:]\n",
    "\n",
    "def isPalindrome(n):\n",
    "    return str(n) == str(n)[::-1]\n",
    "\n",
    "result = 0\n",
    "for i in tqdm(range(1, N)):\n",
    "    if isPalindrome(i) and isPalindrome(getBin(i)):\n",
    "        result += i\n",
    "\n",
    "result"
   ]
  },
  {
   "cell_type": "markdown",
   "metadata": {},
   "source": [
    "# Problem 37"
   ]
  },
  {
   "cell_type": "code",
   "execution_count": 159,
   "metadata": {},
   "outputs": [
    {
     "name": "stdout",
     "output_type": "stream",
     "text": [
      "23, 37, 53, 73, 313, 317, 373, 797, 3137, 3797, 739397, "
     ]
    },
    {
     "data": {
      "text/plain": [
       "748317"
      ]
     },
     "execution_count": 159,
     "metadata": {},
     "output_type": "execute_result"
    }
   ],
   "source": [
    "N = int(1e6)\n",
    "\n",
    "isPrime = [True] * (N+1)\n",
    "isPrime[0], isPrime[1] = False, False\n",
    "\n",
    "i = 2\n",
    "while i < N:\n",
    "    while i < N and not isPrime[i]:\n",
    "        i += 1\n",
    "    if i == N:\n",
    "        break\n",
    "    for j in range(i*i, N, i):\n",
    "        isPrime[j] = False\n",
    "    i += 1\n",
    "\n",
    "\n",
    "def isTruncatable(n):\n",
    "    n = str(n)\n",
    "    for i in range(len(n)):\n",
    "        if not isPrime[int(n[i:])] or not isPrime[int(n[:i+1])]:\n",
    "            return False\n",
    "    return True\n",
    "\n",
    "count, result, i = 0, 0, 11\n",
    "while count < 11:\n",
    "    if isPrime[i] and isTruncatable(i):\n",
    "        print(i, end=\", \")\n",
    "        count += 1\n",
    "        result += i\n",
    "    i += 1\n",
    "\n",
    "result"
   ]
  },
  {
   "cell_type": "markdown",
   "metadata": {},
   "source": [
    "# Problem 38"
   ]
  },
  {
   "cell_type": "code",
   "execution_count": 160,
   "metadata": {},
   "outputs": [
    {
     "data": {
      "application/vnd.jupyter.widget-view+json": {
       "model_id": "3dc240a1192f4953a53ff633e168e4ea",
       "version_major": 2,
       "version_minor": 0
      },
      "text/plain": [
       "  0%|          | 0/9998 [00:00<?, ?it/s]"
      ]
     },
     "metadata": {},
     "output_type": "display_data"
    },
    {
     "data": {
      "text/plain": [
       "932718654"
      ]
     },
     "execution_count": 160,
     "metadata": {},
     "output_type": "execute_result"
    }
   ],
   "source": [
    "from tqdm.notebook import tqdm\n",
    "\n",
    "maxDigits = 4\n",
    "\n",
    "maxNum = 0\n",
    "for i in tqdm(range(2, 10**maxDigits)):\n",
    "    num, mul = i, 2\n",
    "    while len(str(num)) < 9:\n",
    "        num = int(str(num) + str(i * mul))\n",
    "        mul += 1\n",
    "    if len(str(num)) == 9 and len(set(str(num))) == 9 and '0' not in str(num):\n",
    "        maxNum = max(maxNum, num)\n",
    "\n",
    "maxNum"
   ]
  },
  {
   "cell_type": "markdown",
   "metadata": {},
   "source": [
    "# Problem 39"
   ]
  },
  {
   "cell_type": "code",
   "execution_count": 162,
   "metadata": {},
   "outputs": [
    {
     "data": {
      "application/vnd.jupyter.widget-view+json": {
       "model_id": "deba29844eac472db3f500638ac890d5",
       "version_major": 2,
       "version_minor": 0
      },
      "text/plain": [
       "  0%|          | 0/1000 [00:00<?, ?it/s]"
      ]
     },
     "metadata": {},
     "output_type": "display_data"
    },
    {
     "data": {
      "text/plain": [
       "(840, 16)"
      ]
     },
     "execution_count": 162,
     "metadata": {},
     "output_type": "execute_result"
    }
   ],
   "source": [
    "from tqdm.notebook import tqdm\n",
    "\n",
    "bestP, maxNumSols = 0, 0\n",
    "\n",
    "for p in tqdm(range(1, 1001)):\n",
    "    numSols = 0\n",
    "    for b in range(1, p):\n",
    "        a = (p**2 - 2*p*b) / (2*p - 2*b)\n",
    "        if a == int(a) and a > 0 and p > int(a) + b:\n",
    "            numSols += 1\n",
    "    if numSols > maxNumSols:\n",
    "        maxNumSols = numSols\n",
    "        bestP = p\n",
    "\n",
    "bestP, maxNumSols"
   ]
  },
  {
   "cell_type": "markdown",
   "metadata": {},
   "source": [
    "# Problem 40"
   ]
  },
  {
   "cell_type": "code",
   "execution_count": 191,
   "metadata": {},
   "outputs": [
    {
     "data": {
      "text/plain": [
       "210"
      ]
     },
     "execution_count": 191,
     "metadata": {},
     "output_type": "execute_result"
    }
   ],
   "source": [
    "def getCategoryAndLeft(n):\n",
    "    prevSum, currSum, cagtegory = 0, 0, 0\n",
    "    while currSum < n:\n",
    "        prevSum = currSum\n",
    "        currSum += (9 * 10**cagtegory) * (cagtegory + 1)\n",
    "        cagtegory += 1\n",
    "    return cagtegory, n - prevSum\n",
    "\n",
    "def getDigit(n):\n",
    "    category, left = getCategoryAndLeft(n)\n",
    "    base = 10**(category-1) + (left-1) // category\n",
    "    return int(str(base)[(left-1) % category])\n",
    "\n",
    "result = 1\n",
    "for i in range(7):\n",
    "    result *= getDigit(10**i)\n",
    "\n",
    "result"
   ]
  },
  {
   "cell_type": "markdown",
   "metadata": {},
   "source": [
    "# Problem 41"
   ]
  },
  {
   "cell_type": "code",
   "execution_count": 5,
   "metadata": {},
   "outputs": [
    {
     "data": {
      "text/plain": [
       "7652413"
      ]
     },
     "execution_count": 5,
     "metadata": {},
     "output_type": "execute_result"
    }
   ],
   "source": [
    "from tqdm.notebook import tqdm\n",
    "\n",
    "N = int(1e7)\n",
    "\n",
    "isPrime = [True] * (N+1)\n",
    "isPrime[0], isPrime[1] = False, False\n",
    "\n",
    "i = 2\n",
    "maxPrime = 0\n",
    "while i < N:\n",
    "    while i < N and not isPrime[i]:\n",
    "        i += 1\n",
    "    if i == N:\n",
    "        break\n",
    "    if len(set(str(i))) == len(str(i)) and str(i).count('0')==0 and int(list(sorted(str(i)))[-1]) == len(str(i)):\n",
    "        maxPrime = i\n",
    "    for j in range(i*i, N, i):\n",
    "        isPrime[j] = False\n",
    "    i += 1\n",
    "\n",
    "maxPrime"
   ]
  },
  {
   "cell_type": "markdown",
   "metadata": {},
   "source": [
    "# Problem 42"
   ]
  },
  {
   "cell_type": "code",
   "execution_count": 10,
   "metadata": {},
   "outputs": [
    {
     "data": {
      "text/plain": [
       "162"
      ]
     },
     "execution_count": 10,
     "metadata": {},
     "output_type": "execute_result"
    }
   ],
   "source": [
    "with open(\"42.txt\", \"r\") as f:\n",
    "    words = f.read()\n",
    "    words = words.split(\",\")\n",
    "    words = list(map(lambda x: x[1:-1], words))\n",
    "\n",
    "count = 0\n",
    "\n",
    "for word in words:\n",
    "    t = sum(ord(c) - ord('A') + 1 for c in word)\n",
    "    n = ((1 + 8*t)**0.5 - 1)/2\n",
    "    if n == int(n):\n",
    "        count += 1\n",
    "\n",
    "count"
   ]
  },
  {
   "cell_type": "markdown",
   "metadata": {},
   "source": [
    "# Problem 43"
   ]
  },
  {
   "cell_type": "code",
   "execution_count": 17,
   "metadata": {},
   "outputs": [
    {
     "data": {
      "application/vnd.jupyter.widget-view+json": {
       "model_id": "7671ceb76506459fb3974ace6aa0e1c1",
       "version_major": 2,
       "version_minor": 0
      },
      "text/plain": [
       "  0%|          | 0/3628800 [00:00<?, ?it/s]"
      ]
     },
     "metadata": {},
     "output_type": "display_data"
    },
    {
     "data": {
      "text/plain": [
       "16695334890"
      ]
     },
     "execution_count": 17,
     "metadata": {},
     "output_type": "execute_result"
    }
   ],
   "source": [
    "from itertools import permutations\n",
    "from tqdm.notebook import tqdm\n",
    "\n",
    "def factorial(n):\n",
    "    if n == 0:\n",
    "        return 1\n",
    "    return n * factorial(n-1)\n",
    "\n",
    "def checkDiv(string, low, high, div):\n",
    "    return int(string[low:high]) % div == 0\n",
    "\n",
    "result = 0\n",
    "primes = [2, 3, 5, 7, 11, 13, 17]\n",
    "pb = tqdm(total=factorial(10))\n",
    "for num in permutations(range(10)):\n",
    "    num = ''.join(map(str, num))\n",
    "    for i in range(7):\n",
    "        if not checkDiv(num, i+1, i+4, primes[i]):\n",
    "            break\n",
    "    else:\n",
    "        result += int(num)\n",
    "    pb.update(1)\n",
    "\n",
    "result\n",
    "            "
   ]
  },
  {
   "cell_type": "markdown",
   "metadata": {},
   "source": [
    "# Problem 44"
   ]
  },
  {
   "cell_type": "code",
   "execution_count": 9,
   "metadata": {},
   "outputs": [
    {
     "name": "stdout",
     "output_type": "stream",
     "text": [
      "5482660\n"
     ]
    }
   ],
   "source": [
    "from tqdm.notebook import tqdm\n",
    "\n",
    "penta = lambda n: n * (3*n - 1) // 2\n",
    "\n",
    "def isPenta(N):\n",
    "    n = (1 + (1 + 24*N)**0.5) / 6\n",
    "    return n == int(n)\n",
    "\n",
    "mid = 1\n",
    "while True:\n",
    "    low = 1\n",
    "    found = False\n",
    "    while low < mid:\n",
    "        diff = penta(mid) - penta(low)\n",
    "        if isPenta(diff) and isPenta(penta(mid) + diff):\n",
    "            print(penta(low))\n",
    "            found = True\n",
    "            break\n",
    "        low += 1\n",
    "    if found:\n",
    "        break\n",
    "    mid += 1"
   ]
  },
  {
   "cell_type": "markdown",
   "metadata": {},
   "source": [
    "# Problem 45"
   ]
  },
  {
   "cell_type": "code",
   "execution_count": 11,
   "metadata": {},
   "outputs": [
    {
     "data": {
      "application/vnd.jupyter.widget-view+json": {
       "model_id": "ea53bb6563e54c6aa63900d5c216d0be",
       "version_major": 2,
       "version_minor": 0
      },
      "text/plain": [
       "  0%|          | 0/999714 [00:00<?, ?it/s]"
      ]
     },
     "metadata": {},
     "output_type": "display_data"
    },
    {
     "name": "stdout",
     "output_type": "stream",
     "text": [
      "1533776805\n"
     ]
    }
   ],
   "source": [
    "from tqdm.notebook import tqdm\n",
    "\n",
    "def isPenta(N):\n",
    "    n = (1 + (1 + 24*N)**0.5) / 6\n",
    "    return n == int(n)\n",
    "\n",
    "def isHexa(N):\n",
    "    n = (1 + (1 + 8*N)**0.5) / 4\n",
    "    return n == int(n)\n",
    "\n",
    "trian = lambda n: n * (n + 1) // 2\n",
    "\n",
    "for i in tqdm(range(286, int(1e6))):\n",
    "    num = trian(i)\n",
    "    if isPenta(num) and isHexa(num):\n",
    "        print(num)\n",
    "        break"
   ]
  },
  {
   "cell_type": "markdown",
   "metadata": {},
   "source": [
    "# Problem 46"
   ]
  },
  {
   "cell_type": "code",
   "execution_count": 12,
   "metadata": {},
   "outputs": [
    {
     "data": {
      "application/vnd.jupyter.widget-view+json": {
       "model_id": "271c8b133b8b4f3eb607e6049809120b",
       "version_major": 2,
       "version_minor": 0
      },
      "text/plain": [
       "  0%|          | 0/499996 [00:00<?, ?it/s]"
      ]
     },
     "metadata": {},
     "output_type": "display_data"
    },
    {
     "name": "stdout",
     "output_type": "stream",
     "text": [
      "5777\n"
     ]
    }
   ],
   "source": [
    "from tqdm.notebook import tqdm\n",
    "\n",
    "N = int(1e6)\n",
    "\n",
    "isPrime = [True] * (N+1)\n",
    "isPrime[0], isPrime[1] = False, False\n",
    "\n",
    "i = 2\n",
    "while i < N:\n",
    "    while i < N and not isPrime[i]:\n",
    "        i += 1\n",
    "    if i == N:\n",
    "        break\n",
    "    for j in range(i*i, N, i):\n",
    "        isPrime[j] = False\n",
    "    i += 1\n",
    "\n",
    "for num in tqdm(range(9, N, 2)):\n",
    "    if not isPrime[num]:\n",
    "        found = False\n",
    "        for i in range(1, int(num**0.5)+1):\n",
    "            if isPrime[num - 2*i**2]:\n",
    "                found = True\n",
    "                break\n",
    "        if not found:\n",
    "            print(num)\n",
    "            break"
   ]
  },
  {
   "cell_type": "markdown",
   "metadata": {},
   "source": [
    "# Problem 47"
   ]
  },
  {
   "cell_type": "code",
   "execution_count": 3,
   "metadata": {},
   "outputs": [
    {
     "data": {
      "text/plain": [
       "134043"
      ]
     },
     "execution_count": 3,
     "metadata": {},
     "output_type": "execute_result"
    }
   ],
   "source": [
    "from collections import defaultdict\n",
    "\n",
    "def primeFactors(n):\n",
    "    factors = defaultdict(int)\n",
    "    while n % 2 == 0:\n",
    "        factors[2] += 1\n",
    "        n = n // 2\n",
    "    for i in range(3, int(n**0.5)+1, 2):\n",
    "        while n % i == 0:\n",
    "            factors[i] += 1\n",
    "            n = n // i\n",
    "    if n > 2:\n",
    "        factors[n] += 1\n",
    "    return factors\n",
    "\n",
    "\n",
    "factorCounts = []\n",
    "for i in range(644, 648):\n",
    "    factorCounts.append(len(primeFactors(i)))\n",
    "\n",
    "i = 648\n",
    "while factorCounts != [4, 4, 4, 4]:\n",
    "    factorCounts.pop(0)\n",
    "    factorCounts.append(len(primeFactors(i)))\n",
    "    i += 1\n",
    "\n",
    "i - 4"
   ]
  },
  {
   "cell_type": "markdown",
   "metadata": {},
   "source": [
    "# Problem 48"
   ]
  },
  {
   "cell_type": "code",
   "execution_count": 4,
   "metadata": {},
   "outputs": [
    {
     "data": {
      "text/plain": [
       "9110846700"
      ]
     },
     "execution_count": 4,
     "metadata": {},
     "output_type": "execute_result"
    }
   ],
   "source": [
    "digits = 0\n",
    "\n",
    "for i in range(1, 1001):\n",
    "    digits += pow(i, i, 10**10)\n",
    "    digits %= 10**10\n",
    "\n",
    "digits"
   ]
  },
  {
   "cell_type": "markdown",
   "metadata": {},
   "source": [
    "# Problem 49"
   ]
  },
  {
   "cell_type": "code",
   "execution_count": 15,
   "metadata": {},
   "outputs": [
    {
     "data": {
      "application/vnd.jupyter.widget-view+json": {
       "model_id": "8596f49ecf58479ea157e85b32c2bad9",
       "version_major": 2,
       "version_minor": 0
      },
      "text/plain": [
       "  0%|          | 0/4498 [00:00<?, ?it/s]"
      ]
     },
     "metadata": {},
     "output_type": "display_data"
    },
    {
     "name": "stdout",
     "output_type": "stream",
     "text": [
      "148748178147\n",
      "296962999629\n"
     ]
    }
   ],
   "source": [
    "from tqdm.notebook import tqdm\n",
    "\n",
    "N = int(1e4)\n",
    "\n",
    "isPrime = [True] * (N+1)\n",
    "\n",
    "sum = 0\n",
    "\n",
    "i = 2\n",
    "while i < N:\n",
    "    while i < N and not isPrime[i]:\n",
    "        i += 1\n",
    "    if i == N:\n",
    "        break\n",
    "    sum += i\n",
    "    for j in range(i*i, N, i):\n",
    "        isPrime[j] = False\n",
    "    i += 1\n",
    "\n",
    "primes = []\n",
    "for i in range(1000, N):\n",
    "    if isPrime[i]:\n",
    "        primes.append(i)\n",
    "\n",
    "for d in tqdm(range(2, 4500)):\n",
    "    for a in primes:\n",
    "        b = a + d\n",
    "        c = b + d\n",
    "        if b >= 10000 or c >= 10000:\n",
    "            break\n",
    "        if isPrime[b] and isPrime[c] and sorted(str(a)) == sorted(str(b)) == sorted(str(c)):\n",
    "            print(str(a) + str(b) + str(c))"
   ]
  },
  {
   "cell_type": "markdown",
   "metadata": {},
   "source": [
    "# Problem 50"
   ]
  },
  {
   "cell_type": "code",
   "execution_count": 23,
   "metadata": {},
   "outputs": [
    {
     "name": "stdout",
     "output_type": "stream",
     "text": [
      "997651\n"
     ]
    }
   ],
   "source": [
    "from tqdm.notebook import tqdm\n",
    "\n",
    "N = int(1e6)\n",
    "\n",
    "isPrime = [True] * (N+1)\n",
    "isPrime[0], isPrime[1] = False, False\n",
    "sum = 0\n",
    "\n",
    "i = 2\n",
    "while i < N:\n",
    "    while i < N and not isPrime[i]:\n",
    "        i += 1\n",
    "    if i == N:\n",
    "        break\n",
    "    sum += i\n",
    "    for j in range(i*i, N, i):\n",
    "        isPrime[j] = False\n",
    "    i += 1\n",
    "\n",
    "primes = []\n",
    "for i in range(N + 1):\n",
    "    if isPrime[i]:\n",
    "        primes.append(i)\n",
    "\n",
    "prefixSum = [0] * (len(primes)+1)\n",
    "for i in range(len(primes)):\n",
    "    prefixSum[i+1] = prefixSum[i] + primes[i]\n",
    "\n",
    "maxPrime = 0\n",
    "for length in range(len(primes), 0, -1):\n",
    "    for i in range(len(primes) - length):\n",
    "        if prefixSum[i+length] - prefixSum[i] > N:\n",
    "            break\n",
    "        if prefixSum[i+length] - prefixSum[i] in primes:\n",
    "            maxPrime = prefixSum[i+length] - prefixSum[i]\n",
    "            print(maxPrime)\n",
    "            break\n",
    "    if maxPrime != 0:\n",
    "        break"
   ]
  },
  {
   "cell_type": "markdown",
   "metadata": {},
   "source": [
    "# Problem 51"
   ]
  },
  {
   "cell_type": "code",
   "execution_count": null,
   "metadata": {},
   "outputs": [],
   "source": []
  }
 ],
 "metadata": {
  "kernelspec": {
   "display_name": ".env",
   "language": "python",
   "name": "python3"
  },
  "language_info": {
   "codemirror_mode": {
    "name": "ipython",
    "version": 3
   },
   "file_extension": ".py",
   "mimetype": "text/x-python",
   "name": "python",
   "nbconvert_exporter": "python",
   "pygments_lexer": "ipython3",
   "version": "3.11.3"
  }
 },
 "nbformat": 4,
 "nbformat_minor": 2
}
