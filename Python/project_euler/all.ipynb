{
 "cells": [
  {
   "cell_type": "markdown",
   "metadata": {},
   "source": [
    "# Problem 1"
   ]
  },
  {
   "cell_type": "code",
   "execution_count": 1,
   "metadata": {},
   "outputs": [
    {
     "name": "stdout",
     "output_type": "stream",
     "text": [
      "233168\n"
     ]
    }
   ],
   "source": [
    "N = 1000\n",
    "\n",
    "sum = 0\n",
    "for i in range(1, N):\n",
    "    if i % 3 == 0 or i % 5 == 0:\n",
    "        sum += i\n",
    "\n",
    "print(sum)"
   ]
  },
  {
   "cell_type": "markdown",
   "metadata": {},
   "source": [
    "# Problem 2"
   ]
  },
  {
   "cell_type": "code",
   "execution_count": 2,
   "metadata": {},
   "outputs": [
    {
     "name": "stdout",
     "output_type": "stream",
     "text": [
      "4613732\n"
     ]
    }
   ],
   "source": [
    "import math\n",
    "\n",
    "def fib(n):\n",
    "    phi = (1 + math.sqrt(5)) / 2\n",
    "    return round((phi**n - (1 - phi)**n) / math.sqrt(5))\n",
    "\n",
    "\n",
    "sum, i = 0, 3\n",
    "while True:\n",
    "    f = fib(i)\n",
    "    if f > 4e6:\n",
    "        break\n",
    "    sum += f\n",
    "    i += 3\n",
    "\n",
    "print(sum)"
   ]
  },
  {
   "cell_type": "markdown",
   "metadata": {},
   "source": [
    "# Problem 3"
   ]
  },
  {
   "cell_type": "code",
   "execution_count": 4,
   "metadata": {},
   "outputs": [
    {
     "name": "stdout",
     "output_type": "stream",
     "text": [
      "[71, 839, 1471, 6857]\n",
      "600851475143\n"
     ]
    }
   ],
   "source": [
    "import math\n",
    "\n",
    "target = 600851475143\n",
    "factors = []\n",
    "\n",
    "for i in range(2, int(math.sqrt(target))+1):\n",
    "    while target % i == 0:\n",
    "        factors.append(i)\n",
    "        target /= i\n",
    "\n",
    "print(factors)\n",
    "p = 1\n",
    "for f in factors:\n",
    "    p *= f\n",
    "print(p)"
   ]
  },
  {
   "cell_type": "markdown",
   "metadata": {},
   "source": [
    "# Problem 4"
   ]
  },
  {
   "cell_type": "code",
   "execution_count": 14,
   "metadata": {},
   "outputs": [
    {
     "name": "stdout",
     "output_type": "stream",
     "text": [
      "906609\n"
     ]
    }
   ],
   "source": [
    "maximum = 0\n",
    "\n",
    "for i in range(100, 1000):\n",
    "    for j in range(i, 1000):\n",
    "        p = i * j\n",
    "        if p == int(str(p)[::-1]):\n",
    "            maximum = max(p, maximum)\n",
    "\n",
    "print(maximum)"
   ]
  },
  {
   "cell_type": "markdown",
   "metadata": {},
   "source": [
    "# Problem 5"
   ]
  },
  {
   "cell_type": "code",
   "execution_count": 18,
   "metadata": {},
   "outputs": [
    {
     "name": "stdout",
     "output_type": "stream",
     "text": [
      "232792560\n"
     ]
    }
   ],
   "source": [
    "import math\n",
    "\n",
    "curr = 2\n",
    "for i in range(3, 21):\n",
    "    curr = curr * i // math.gcd(curr, i)\n",
    "\n",
    "print(curr)"
   ]
  },
  {
   "cell_type": "markdown",
   "metadata": {},
   "source": [
    "# Problem 6"
   ]
  },
  {
   "cell_type": "code",
   "execution_count": 21,
   "metadata": {},
   "outputs": [
    {
     "name": "stdout",
     "output_type": "stream",
     "text": [
      "25164150\n"
     ]
    }
   ],
   "source": [
    "def get_square_sum(n):\n",
    "    return n * (n + 1) * (2 * n + 1) // 6\n",
    "\n",
    "def get_sum(n):\n",
    "    return n * (n + 1) // 2\n",
    "\n",
    "sum = get_sum(100)\n",
    "square_sum = get_square_sum(100)\n",
    "print(sum**2 - square_sum)"
   ]
  },
  {
   "cell_type": "markdown",
   "metadata": {},
   "source": [
    "# Problem 7"
   ]
  },
  {
   "cell_type": "code",
   "execution_count": 2,
   "metadata": {},
   "outputs": [
    {
     "data": {
      "application/vnd.jupyter.widget-view+json": {
       "model_id": "66ba1f2fa2f54142be8b0a5210e6eb32",
       "version_major": 2,
       "version_minor": 0
      },
      "text/plain": [
       "  0%|          | 0/10001 [00:00<?, ?it/s]"
      ]
     },
     "metadata": {},
     "output_type": "display_data"
    },
    {
     "name": "stdout",
     "output_type": "stream",
     "text": [
      "104743\n"
     ]
    }
   ],
   "source": [
    "import math\n",
    "from tqdm.notebook import tqdm\n",
    "\n",
    "N = 10001\n",
    "seive = set(i for i in range(2, int(N * math.log(N) * 2)))\n",
    "\n",
    "for _ in tqdm(range(N)):\n",
    "    p = min(seive)\n",
    "    seive -= set(range(p, max(seive) + 1, p))\n",
    "\n",
    "print(p)"
   ]
  },
  {
   "cell_type": "markdown",
   "metadata": {},
   "source": [
    "# Problem 8"
   ]
  },
  {
   "cell_type": "code",
   "execution_count": null,
   "metadata": {},
   "outputs": [],
   "source": []
  }
 ],
 "metadata": {
  "kernelspec": {
   "display_name": ".env",
   "language": "python",
   "name": "python3"
  },
  "language_info": {
   "codemirror_mode": {
    "name": "ipython",
    "version": 3
   },
   "file_extension": ".py",
   "mimetype": "text/x-python",
   "name": "python",
   "nbconvert_exporter": "python",
   "pygments_lexer": "ipython3",
   "version": "3.11.3"
  }
 },
 "nbformat": 4,
 "nbformat_minor": 2
}
