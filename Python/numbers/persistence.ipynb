{
 "cells": [
  {
   "cell_type": "code",
   "execution_count": 19,
   "metadata": {},
   "outputs": [],
   "source": [
    "import math\n",
    "from collections import deque"
   ]
  },
  {
   "cell_type": "code",
   "execution_count": 11,
   "metadata": {},
   "outputs": [
    {
     "name": "stdout",
     "output_type": "stream",
     "text": [
      "Number 0, Steps: 0\n",
      "Number 10, Steps: 1\n",
      "Number 25, Steps: 2\n",
      "Number 39, Steps: 3\n",
      "Number 77, Steps: 4\n",
      "Number 679, Steps: 5\n",
      "Number 6788, Steps: 6\n",
      "Number 68889, Steps: 7\n",
      "Number 2677889, Steps: 8\n",
      "Number 26888999, Steps: 9\n",
      "Number 3778888999, Steps: 10\n",
      "Number 277777788888899, Steps: 11\n"
     ]
    }
   ],
   "source": [
    "def multiplyDigits(n):\n",
    "    if n < 10:\n",
    "        return n\n",
    "    else:\n",
    "        result = 1\n",
    "        while n > 0:\n",
    "            result *= n % 10\n",
    "            n //= 10\n",
    "        return result\n",
    "\n",
    "def getSteps(n):\n",
    "    steps = 0\n",
    "    while n > 9:\n",
    "        n = multiplyDigits(n)\n",
    "        steps += 1\n",
    "    return steps\n",
    "\n",
    "records = [0, 10, 25, 39, 77, 679, 6788, 68889, 2677889, 26888999, 3778888999, 277777788888899]\n",
    "\n",
    "for record in records:\n",
    "    steps = getSteps(record)\n",
    "    print(f\"Number {record}, Steps: {steps}\")"
   ]
  },
  {
   "cell_type": "code",
   "execution_count": 26,
   "metadata": {},
   "outputs": [
    {
     "name": "stdout",
     "output_type": "stream",
     "text": [
      "222\n"
     ]
    }
   ],
   "source": [
    "base = list(range(10))\n",
    "\n",
    "def singleDigitPrimeFactors(n):\n",
    "    if n == 0:\n",
    "        return None\n",
    "    factors = [2, 3, 5, 7]\n",
    "    result = {p: 0 for p in factors}\n",
    "    for factor in factors:\n",
    "        while n % factor == 0:\n",
    "            result[factor] += 1\n",
    "            n //= factor\n",
    "    if n > 1:\n",
    "        return None\n",
    "    return result\n",
    "\n",
    "neighs = deque()\n",
    "neighs.append(8)\n",
    "\n",
    "while neighs:\n",
    "    node = neighs.popleft()\n",
    "    factorMap = singleDigitPrimeFactors(node)\n",
    "    if factorMap is not None:\n",
    "        # Directly print the number\n",
    "        num = ''\n",
    "        for factor in factorMap:\n",
    "            num += str(factor) * factorMap[factor]\n",
    "        num = int(num)\n",
    "        neighs.append(num)\n",
    "        print(num)\n",
    "        \n",
    "        # Combine 2's to make 4 or 8"
   ]
  },
  {
   "cell_type": "code",
   "execution_count": null,
   "metadata": {},
   "outputs": [],
   "source": []
  }
 ],
 "metadata": {
  "kernelspec": {
   "display_name": "env",
   "language": "python",
   "name": "python3"
  },
  "language_info": {
   "codemirror_mode": {
    "name": "ipython",
    "version": 3
   },
   "file_extension": ".py",
   "mimetype": "text/x-python",
   "name": "python",
   "nbconvert_exporter": "python",
   "pygments_lexer": "ipython3",
   "version": "3.11.3"
  }
 },
 "nbformat": 4,
 "nbformat_minor": 2
}
