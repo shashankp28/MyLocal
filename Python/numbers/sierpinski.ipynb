{
 "cells": [
  {
   "cell_type": "code",
   "execution_count": 2,
   "metadata": {},
   "outputs": [],
   "source": [
    "import random\n",
    "from tqdm.notebook import tqdm\n",
    "import matplotlib.pyplot as plt\n",
    "import math\n",
    "from collections import defaultdict"
   ]
  },
  {
   "cell_type": "code",
   "execution_count": 1,
   "metadata": {},
   "outputs": [],
   "source": [
    "Ks = [21181, 22699, 24737, 55459, 67607]\n",
    "witnesses = [2, 325, 9375, 28178, 450775, 9780504, 1795265022]\n",
    "\n",
    "def miillerTest(d, n, a):\n",
    "    x = pow(a, d, n)\n",
    "    if (x == 1 or x == n - 1):\n",
    "        return True\n",
    "    while (d != n - 1):\n",
    "        x = (x * x) % n\n",
    "        d *= 2\n",
    "        if (x == 1):\n",
    "            return False\n",
    "        if (x == n - 1):\n",
    "            return True\n",
    "    return False\n",
    "\n",
    "\n",
    "def isPrimeMiller(d, r):\n",
    "    n = d * 2 ** r + 1\n",
    "    if (n <= 1 or n == 4):\n",
    "        return False\n",
    "    if (n <= 3):\n",
    "        return True\n",
    "    for a in witnesses:\n",
    "        if (miillerTest(d, n, a) == False):\n",
    "            return False\n",
    "    return True\n",
    "\n",
    "def isPrimeFermat(n):\n",
    "    if n == 2:\n",
    "        return True\n",
    "    if not n & 1:\n",
    "        return False\n",
    "    for a in witnesses:\n",
    "        if pow(a, n-1, n) != 1:\n",
    "            return False\n",
    "    return True"
   ]
  },
  {
   "cell_type": "code",
   "execution_count": 4,
   "metadata": {},
   "outputs": [],
   "source": [
    "def getScale(p):\n",
    "    for r in range(1, 10000000):\n",
    "        if pow(2, r, p) == 1:\n",
    "            return r \n",
    "    return -1\n",
    "\n",
    "\n",
    "def getOffsets(p):\n",
    "    offsets = []\n",
    "    for b in range(1, 10000000):\n",
    "        if ( (a%p) * pow(2, b, p) )%p == p-1:\n",
    "            offsets.append(b)\n",
    "    return offsets\n",
    "\n",
    "def getMods(r):\n",
    "    primes = getPrimes(1000000)\n",
    "    sols = []\n",
    "    for p in getPrimes(10000000):\n",
    "        if pow(2, r, p) == 1:\n",
    "            sols.append(p)\n",
    "    return sols\n",
    "\n",
    "def getResidue(sequences):\n",
    "    residue = []\n",
    "    for i in range(1, 1000):\n",
    "        exclude = False\n",
    "        for sequence in sequences:\n",
    "            if (i-sequence[2])%sequence[1] == 0:\n",
    "                exclude = True\n",
    "                break\n",
    "        if not exclude:\n",
    "            residue.append(i)\n",
    "    return residue"
   ]
  },
  {
   "cell_type": "code",
   "execution_count": 5,
   "metadata": {},
   "outputs": [],
   "source": [
    "# sequences = []\n",
    "# primes = getPrimes(1000000)\n",
    "# scales = list(range(2, 1000000))\n",
    "# offsets = list(range(1, 1000000))\n",
    "# a = Ks[0]\n",
    "\n",
    "# p_i, s_i, o_i = 0, 0, 0 \n",
    "\n",
    "# for scale in scales:\n",
    "#     temp_seq = []\n",
    "#     mods = getMods(scale)\n",
    "#     if len(mods)==0:\n",
    "#         continue\n",
    "#     for mod in mods:\n",
    "#         offsets = getOffsets(mod)\n",
    "#         if len(offsets)==0:\n",
    "#             continue\n",
    "#         for offset in offsets:\n",
    "#             temp_seq.append((mod, scale, offset))\n",
    "#     oldResidue = getResidue(sequences)\n",
    "#     new_seq = sequences.copy()\n",
    "#     for seq in temp_seq:\n",
    "#         new_seq.append(seq)\n",
    "#         if len(getResidue(new_seq)) == len(oldResidue):\n",
    "#             new_seq.pop()\n",
    "#     sequences = new_seq.copy()\n",
    "#     print(len(sequences), len(oldResidue))"
   ]
  },
  {
   "cell_type": "code",
   "execution_count": 6,
   "metadata": {},
   "outputs": [
    {
     "data": {
      "application/vnd.jupyter.widget-view+json": {
       "model_id": "7f6c74de8fc84fc58896242c79646e33",
       "version_major": 2,
       "version_minor": 0
      },
      "text/plain": [
       "  0%|          | 0/50000000 [00:00<?, ?it/s]"
      ]
     },
     "metadata": {},
     "output_type": "display_data"
    }
   ],
   "source": [
    "for n in tqdm(range(50000000, 100000000)):\n",
    "    if isPrimeMiller(Ks[0], n):\n",
    "        print(n)\n",
    "        break"
   ]
  },
  {
   "cell_type": "code",
   "execution_count": 50,
   "metadata": {},
   "outputs": [
    {
     "name": "stdout",
     "output_type": "stream",
     "text": [
      "def example_function():\n",
      "    s = time()\n",
      "    print(z, x, y)\n",
      "    timeStat.handle(time() - s, 3)\n",
      "\n",
      "def another_function():\n",
      "    s = time()\n",
      "    a += example_function()\n",
      "    timeStat.handle(time() - s, 8)\n",
      "    s = time()\n",
      "    a += example_function()\n",
      "    timeStat.handle(time() - s, 9)\n",
      "    s = time()\n",
      "    a += example_function()\n",
      "    timeStat.handle(time() - s, 10)\n",
      "    s = time()\n",
      "    a += example_function()\n",
      "    timeStat.handle(time() - s, 11)\n",
      "    s = time()\n",
      "    print(c, a, b)\n",
      "    timeStat.handle(time() - s, 12)\n"
     ]
    }
   ],
   "source": [
    "import ast\n",
    "\n",
    "input_code = \"\"\"\n",
    "def example_function():\n",
    "    print(z, x, y)\n",
    "\n",
    "def another_function():\n",
    "    a += example_function()\n",
    "    a += example_function()\n",
    "    a += example_function()\n",
    "    a += example_function()\n",
    "    print(c, a, b)\n",
    "\"\"\"\n",
    "\n",
    "\n",
    "def add_code_around_expr_nodes(input_code, code_before, code_after):\n",
    "    tree = ast.parse(input_code)\n",
    "    for node in ast.walk(tree):\n",
    "        for child in ast.iter_child_nodes(node):\n",
    "            child.parent = node\n",
    "\n",
    "    check_types = {ast.Expr, ast.Assign, ast.AugAssign, ast.Assert, ast.Delete, ast.AnnAssign, ast.Import, ast.ImportFrom,\n",
    "                   ast.Global, ast.Nonlocal} \n",
    "\n",
    "    for node in ast.walk(tree):\n",
    "        if type(node) in check_types:\n",
    "            lineNo = node.lineno\n",
    "            index_before = node.parent.body.index(node)\n",
    "            index_after = index_before + 2 \n",
    "            node.parent.body.insert(\n",
    "                index_before, ast.parse(code_before).body[0])\n",
    "            node.parent.body.insert(index_after, ast.parse(code_after.replace('%', str(lineNo))).body[0])\n",
    "\n",
    "    modified_code = ast.unparse(tree)\n",
    "    return modified_code\n",
    "\n",
    "\n",
    "code_before_expr = \"s = time()\"\n",
    "code_after_expr = \"timeStat.handle(time()-s, %)\"\n",
    "\n",
    "output_code = add_code_around_expr_nodes(\n",
    "    input_code, code_before_expr, code_after_expr)\n",
    "print(output_code)"
   ]
  },
  {
   "cell_type": "code",
   "execution_count": 20,
   "metadata": {},
   "outputs": [
    {
     "name": "stdout",
     "output_type": "stream",
     "text": [
      "2 1\n",
      "3 1\n",
      "5 1\n",
      "13 1\n",
      "17 1\n",
      "41 1\n",
      "97 1\n",
      "113 1\n",
      "193 1\n",
      "241 1\n",
      "257 1\n",
      "353 1\n",
      "449 1\n",
      "577 1\n",
      "641 1\n",
      "673 1\n",
      "769 1\n",
      "929 1\n",
      "1153 1\n",
      "1217 1\n",
      "1409 1\n",
      "1601 1\n",
      "2113 1\n",
      "2689 1\n",
      "2753 1\n",
      "3137 1\n",
      "3329 1\n",
      "3457 1\n",
      "4481 1\n",
      "4993 1\n",
      "6529 1\n",
      "7297 1\n",
      "7681 1\n",
      "7937 1\n",
      "9473 1\n",
      "9601 1\n",
      "9857 1\n"
     ]
    }
   ],
   "source": [
    "def getPrimes(n):\n",
    "    prime = [True for i in range(n + 1)]\n",
    "    p = 2\n",
    "    while (p * p <= n):\n",
    "        if (prime[p] == True):\n",
    "            for i in range(p * 2, n + 1, p):\n",
    "                prime[i] = False\n",
    "        p += 1\n",
    "    prime[0] = False\n",
    "    prime[1] = False\n",
    "    r = []\n",
    "    for p in range(n + 1):\n",
    "        if prime[p]:\n",
    "            r.append(p)\n",
    "    return r\n",
    "\n",
    "proths = [2, 3, 5, 13, 17, 41, 97, 113, 193, 241, 257, 353, 449, 577, 641, 673, 769, 929, 1153, 1217, 1409, 1601, 2113, 2689, 2753, 3137, 3329, 3457, 4481, 4993, 6529, 7297, 7681, 7937, 9473, 9601, 9857]\n",
    "primes = getPrimes(1000)\n",
    "\n",
    "\n",
    "\n",
    "for proth in proths:\n",
    "    print(proth, modFactorial(proth-2, proth))"
   ]
  },
  {
   "cell_type": "code",
   "execution_count": 25,
   "metadata": {},
   "outputs": [
    {
     "name": "stdout",
     "output_type": "stream",
     "text": [
      "1 0\n",
      "2 1\n",
      "3 0\n",
      "4 0\n",
      "5 0\n",
      "6 1\n",
      "7 0\n",
      "8 0\n",
      "9 0\n",
      "10 0\n",
      "11 0\n",
      "12 1\n",
      "13 0\n",
      "14 1\n",
      "15 0\n",
      "16 0\n",
      "17 0\n",
      "18 0\n",
      "19 0\n",
      "20 0\n",
      "21 0\n",
      "22 0\n"
     ]
    },
    {
     "ename": "KeyboardInterrupt",
     "evalue": "",
     "output_type": "error",
     "traceback": [
      "\u001b[1;31m---------------------------------------------------------------------------\u001b[0m",
      "\u001b[1;31mKeyboardInterrupt\u001b[0m                         Traceback (most recent call last)",
      "Cell \u001b[1;32mIn[25], line 5\u001b[0m\n\u001b[0;32m      3\u001b[0m \u001b[38;5;28;01mfor\u001b[39;00m r \u001b[38;5;129;01min\u001b[39;00m \u001b[38;5;28mrange\u001b[39m(\u001b[38;5;241m1\u001b[39m, \u001b[38;5;241m100\u001b[39m):\n\u001b[0;32m      4\u001b[0m     p \u001b[38;5;241m=\u001b[39m a \u001b[38;5;241m*\u001b[39m \u001b[38;5;241m2\u001b[39m\u001b[38;5;241m*\u001b[39m\u001b[38;5;241m*\u001b[39mr \u001b[38;5;241m+\u001b[39m \u001b[38;5;241m1\u001b[39m\n\u001b[1;32m----> 5\u001b[0m     \u001b[38;5;28mprint\u001b[39m(r, \u001b[43mmodFactorial\u001b[49m\u001b[43m(\u001b[49m\u001b[43mp\u001b[49m\u001b[38;5;241;43m-\u001b[39;49m\u001b[38;5;241;43m2\u001b[39;49m\u001b[43m,\u001b[49m\u001b[43m \u001b[49m\u001b[43mp\u001b[49m\u001b[43m)\u001b[49m)\n",
      "Cell \u001b[1;32mIn[20], line 25\u001b[0m, in \u001b[0;36mmodFactorial\u001b[1;34m(n, p)\u001b[0m\n\u001b[0;32m     23\u001b[0m result \u001b[38;5;241m=\u001b[39m \u001b[38;5;241m1\u001b[39m\n\u001b[0;32m     24\u001b[0m \u001b[38;5;28;01mfor\u001b[39;00m i \u001b[38;5;129;01min\u001b[39;00m \u001b[38;5;28mrange\u001b[39m(\u001b[38;5;241m1\u001b[39m, n \u001b[38;5;241m+\u001b[39m \u001b[38;5;241m1\u001b[39m):\n\u001b[1;32m---> 25\u001b[0m     result \u001b[38;5;241m=\u001b[39m (result \u001b[38;5;241m*\u001b[39m i) \u001b[38;5;241m%\u001b[39m p\n\u001b[0;32m     26\u001b[0m \u001b[38;5;28;01mreturn\u001b[39;00m result\n",
      "\u001b[1;31mKeyboardInterrupt\u001b[0m: "
     ]
    }
   ],
   "source": [
    "a = 10\n",
    "\n",
    "for r in range(1, 100):\n",
    "    p = a * 2**r + 1\n",
    "    print(r, modFactorial(p-2, p))"
   ]
  },
  {
   "cell_type": "code",
   "execution_count": 3,
   "metadata": {},
   "outputs": [
    {
     "name": "stdout",
     "output_type": "stream",
     "text": [
      "51 0\n"
     ]
    }
   ],
   "source": [
    "n = 51\n",
    "\n",
    "\n",
    "def modFactorial(n, p):\n",
    "    if n >= p:\n",
    "        return 0\n",
    "    result = 1\n",
    "    for i in range(1, n + 1):\n",
    "        result = (result * i) % p\n",
    "    return result\n",
    "\n",
    "print(n, modFactorial(n-2, n))"
   ]
  },
  {
   "cell_type": "code",
   "execution_count": null,
   "metadata": {},
   "outputs": [],
   "source": []
  }
 ],
 "metadata": {
  "kernelspec": {
   "display_name": "env",
   "language": "python",
   "name": "python3"
  },
  "language_info": {
   "codemirror_mode": {
    "name": "ipython",
    "version": 3
   },
   "file_extension": ".py",
   "mimetype": "text/x-python",
   "name": "python",
   "nbconvert_exporter": "python",
   "pygments_lexer": "ipython3",
   "version": "3.11.3"
  }
 },
 "nbformat": 4,
 "nbformat_minor": 2
}
