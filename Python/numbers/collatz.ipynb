{
 "cells": [
  {
   "cell_type": "code",
   "execution_count": 10,
   "metadata": {},
   "outputs": [],
   "source": [
    "from tqdm.notebook import tqdm\n",
    "import math"
   ]
  },
  {
   "cell_type": "code",
   "execution_count": 33,
   "metadata": {},
   "outputs": [
    {
     "data": {
      "application/vnd.jupyter.widget-view+json": {
       "model_id": "fb5b31fc3e134a21ba18e15551906fd0",
       "version_major": 2,
       "version_minor": 0
      },
      "text/plain": [
       "  0%|          | 0/1000 [00:00<?, ?it/s]"
      ]
     },
     "metadata": {},
     "output_type": "display_data"
    }
   ],
   "source": [
    "for q in tqdm(range(10**5, 1000 + 10**5)):\n",
    "    q_set = set()\n",
    "    p_start = math.floor(math.log(3, 2) * q) - 1\n",
    "    p_end = math.ceil(q*math.log(3, 2) + math.log(5/3, 2)) + 1\n",
    "    for p in range(p_start, p_end):\n",
    "        diff = pow(2, p) - pow(3, q)\n",
    "        numerator = 2 * pow(3, q-1) - 1\n",
    "        if diff > 0 and diff <= numerator:\n",
    "            if numerator % diff == 0:\n",
    "                print(f\"Found Value: p={p}, q={q}\")"
   ]
  },
  {
   "cell_type": "code",
   "execution_count": null,
   "metadata": {},
   "outputs": [],
   "source": []
  }
 ],
 "metadata": {
  "kernelspec": {
   "display_name": "env",
   "language": "python",
   "name": "python3"
  },
  "language_info": {
   "codemirror_mode": {
    "name": "ipython",
    "version": 3
   },
   "file_extension": ".py",
   "mimetype": "text/x-python",
   "name": "python",
   "nbconvert_exporter": "python",
   "pygments_lexer": "ipython3",
   "version": "3.11.3"
  }
 },
 "nbformat": 4,
 "nbformat_minor": 2
}
